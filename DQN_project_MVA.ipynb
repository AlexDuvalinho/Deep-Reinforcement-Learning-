{
 "cells": [
  {
   "cell_type": "markdown",
   "metadata": {},
   "source": [
    "**You may need to install [OpenCV](https://pypi.python.org/pypi/opencv-python) and [scikit-video](http://www.scikit-video.org/stable/).**"
   ]
  },
  {
   "cell_type": "code",
   "execution_count": 1,
   "metadata": {},
   "outputs": [
    {
     "name": "stderr",
     "output_type": "stream",
     "text": [
      "Using TensorFlow backend.\n"
     ]
    }
   ],
   "source": [
    "# Install tensorflow, keras, opencv, skvideo and ffmpeg\n",
    "import keras\n",
    "import numpy as np\n",
    "import io\n",
    "import base64\n",
    "from IPython.display import HTML\n",
    "import skvideo.io\n",
    "import cv2\n",
    "import json\n",
    "\n",
    "from keras.models import Sequential,model_from_json\n",
    "from keras.layers.core import Dense, Flatten\n",
    "from keras.optimizers import sgd\n",
    "from keras.layers import Conv2D, MaxPooling2D, Activation, AveragePooling2D,Reshape,BatchNormalization"
   ]
  },
  {
   "cell_type": "markdown",
   "metadata": {},
   "source": [
    "# MiniProject on Deep Reinforcement Learning"
   ]
  },
  {
   "cell_type": "markdown",
   "metadata": {},
   "source": [
    "__Notations__: $E_p$ is the expectation under probability $p$. Please justify each of your answer and widely comment your code."
   ]
  },
  {
   "cell_type": "markdown",
   "metadata": {},
   "source": [
    "# Context"
   ]
  },
  {
   "cell_type": "markdown",
   "metadata": {},
   "source": [
    "In a reinforcement learning algorithm, we modelize each step $t$ as an action $a_t$ obtained from a state $s_t$, i.e. $\\{(a_{t},s_{t})_{t\\leq T}\\}$ having the Markov property. We consider a discount factor $\\gamma \\in [0,1]$ that ensures convergence. The goal is to find among all the policies $\\pi$, one that maximizes the expected reward:\n",
    "\n",
    "\\begin{equation*}\n",
    "R(\\pi)=\\sum_{t\\leq T}E_{p^{\\pi}}[\\gamma^t r(s_{t},a_{t})] \\> ,\n",
    "\\end{equation*}\n",
    "\n",
    "where: \n",
    "\\begin{equation*}p^{\\pi}(a_{0},a_{1},s_{1},...,a_{T},s_{T})=p(a_{0})\\prod_{t=1}^{T}\\pi(a_{t}|s_{t})p(s_{t+1}|s_{t},a_{t}) \\> .\n",
    "\\end{equation*}\n",
    "\n",
    "We note the $Q$-function:\n",
    "\n",
    "\\begin{equation*}Q^\\pi(s,a)=E_{p^{\\pi}}[\\sum_{t\\leq T}\\gamma^{t}r(s_{t},a_{t})|s_{0}=s,a_{0}=a] \\> .\n",
    "\\end{equation*}\n",
    "\n",
    "Thus, the optimal Q function is:\n",
    "\\begin{equation*}\n",
    "Q^*(s,a)=\\max_{\\pi}Q^\\pi(s,a) \\> .\n",
    "\\end{equation*}\n",
    "\n",
    "In this project, we will apply the deep reinforcement learning techniques to a simple game: an agent will have to learn from scratch a policy that will permit it maximizing a reward."
   ]
  },
  {
   "cell_type": "markdown",
   "metadata": {},
   "source": [
    "## The environment, the agent and the game"
   ]
  },
  {
   "cell_type": "markdown",
   "metadata": {},
   "source": [
    "### The environment"
   ]
  },
  {
   "cell_type": "markdown",
   "metadata": {},
   "source": [
    "```Environment``` is an abstract class that represents the states, rewards, and actions to obtain the new state."
   ]
  },
  {
   "cell_type": "code",
   "execution_count": 2,
   "metadata": {},
   "outputs": [],
   "source": [
    "class Environment(object):\n",
    "    def __init__(self):\n",
    "        pass\n",
    "\n",
    "    def act(self, act):\n",
    "        \"\"\"\n",
    "        One can act on the environment and obtain its reaction:\n",
    "        - the new state\n",
    "        - the reward of the new state\n",
    "        - should we continue the game?\n",
    "\n",
    "        :return: state, reward, game_over\n",
    "        \"\"\"\n",
    "        pass\n",
    "\n",
    "\n",
    "    def reset(self):\n",
    "        \"\"\"\n",
    "        Reinitialize the environment to a random state and returns\n",
    "        the original state\n",
    "\n",
    "        :return: state\n",
    "        \"\"\"\n",
    "        pass\n",
    "    \n",
    "    def draw(self):\n",
    "        \"\"\"\n",
    "        Visualize in the console or graphically the current state\n",
    "        \"\"\"\n",
    "        pass"
   ]
  },
  {
   "cell_type": "markdown",
   "metadata": {},
   "source": [
    "The method ```act``` allows to act on the environment at a given state $s_t$ (stored internally), via action $a_t$. The method will return the new state $s_{t+1}$, the reward $r(s_{t},a_{t})$ and determines if $t\\leq T$ (*game_over*).\n",
    "\n",
    "The method ```reset``` simply reinitializes the environment to a random state $s_0$.\n",
    "\n",
    "The method ```draw``` displays the current state $s_t$ (this is useful to check the behavior of the Agent).\n",
    "\n",
    "We modelize $s_t$ as a tensor, while $a_t$ is an integer."
   ]
  },
  {
   "cell_type": "markdown",
   "metadata": {},
   "source": [
    "### The Agent"
   ]
  },
  {
   "cell_type": "markdown",
   "metadata": {},
   "source": [
    "The goal of the ```Agent``` is to interact with the ```Environment``` by proposing actions $a_t$ obtained from a given state $s_t$ to attempt to maximize its __reward__ $r(s_t,a_t)$. We propose the following abstract class:"
   ]
  },
  {
   "cell_type": "code",
   "execution_count": 3,
   "metadata": {},
   "outputs": [],
   "source": [
    "class Agent(object):\n",
    "    def __init__(self, epsilon=0.1, n_action=4):\n",
    "        self.epsilon = epsilon\n",
    "        self.n_action = n_action\n",
    "    \n",
    "    def set_epsilon(self,e):\n",
    "        self.epsilon = e\n",
    "\n",
    "    def act(self,s,train=True):\n",
    "        \"\"\" This function should return the next action to do:\n",
    "        an integer between 0 and 4 (not included) with a random exploration of epsilon\"\"\"\n",
    "        if train:\n",
    "            if np.random.rand() <= self.epsilon:\n",
    "                a = np.random.randint(0, self.n_action, size=1)[0]\n",
    "            else:\n",
    "                a = self.learned_act(s)\n",
    "        else: # in some cases, this can improve the performance.. remove it if poor performances\n",
    "            a = self.learned_act(s)\n",
    "\n",
    "        return a\n",
    "\n",
    "    def learned_act(self,s):\n",
    "        \"\"\" Act via the policy of the agent, from a given state s\n",
    "        it proposes an action a\"\"\"\n",
    "        pass\n",
    "\n",
    "    def reinforce(self, s, n_s, a, r, game_over_):\n",
    "        \"\"\" This function is the core of the learning algorithm. \n",
    "        It takes as an input the current state s_, the next state n_s_\n",
    "        the action a_ used to move from s_ to n_s_ and the reward r_.\n",
    "        \n",
    "        Its goal is to learn a policy.\n",
    "        \"\"\"\n",
    "        pass\n",
    "\n",
    "    def save(self):\n",
    "        \"\"\" This function returns basic stats if applicable: the\n",
    "        loss and/or the model\"\"\"\n",
    "        pass\n",
    "\n",
    "    def load(self):\n",
    "        \"\"\" This function allows to restore a model\"\"\"\n",
    "        pass"
   ]
  },
  {
   "cell_type": "markdown",
   "metadata": {},
   "source": [
    "***\n",
    "__Question 1__:\n",
    "Explain the function act. Why is ```epsilon``` essential?"
   ]
  },
  {
   "cell_type": "markdown",
   "metadata": {},
   "source": [
    "The function act indicates what action $a_t$ should be taken at a specific state $s_t$ according to the policy (behaviour) that the agent is following. In fact, this action will be taken with probability 1-$\\epsilon$ while a random action among the four possible ones will be taken with probability $\\epsilon$. So the lower $\\epsilon$, the less we explore other options and the more we select the best action spotted so far. \n",
    "\n",
    "The above occurs in the case where $train=True$. Otherwise, we simply follow the best action empowered by the policy and do not explore other possibilities, which is why $\\epsilon$ is here for. Indeed, RL is known for the existing trade-off between exploitation and exploration. We need to exploit the agent’s current best option while continuing to explore new possibilities, not suggested by the current policy. This especially allows the agent to avoid getting stuck with a non-optimal behaviour. "
   ]
  },
  {
   "cell_type": "markdown",
   "metadata": {},
   "source": [
    "***\n",
    "### The Game"
   ]
  },
  {
   "cell_type": "markdown",
   "metadata": {},
   "source": [
    "The ```Agent``` and the ```Environment``` work in an interlaced way as in the following (take some time to understand this code as it is the core of the project)\n",
    "\n",
    "```python\n",
    "\n",
    "epoch = 300\n",
    "env = Environment()\n",
    "agent = Agent()\n",
    "\n",
    "\n",
    "# Number of won games\n",
    "score = 0\n",
    "loss = 0\n",
    "\n",
    "\n",
    "for e in range(epoch):\n",
    "    # At each epoch, we restart to a fresh game and get the initial state\n",
    "    state = env.reset()\n",
    "    # This assumes that the games will end\n",
    "    game_over = False\n",
    "\n",
    "    win = 0\n",
    "    lose = 0\n",
    "    \n",
    "    while not game_over:\n",
    "        # The agent performs an action\n",
    "        action = agent.act(state)\n",
    "\n",
    "        # Apply an action to the environment, get the next state, the reward\n",
    "        # and if the games end\n",
    "        prev_state = state\n",
    "        state, reward, game_over = env.act(action)\n",
    "\n",
    "        # Update the counters\n",
    "        if reward > 0:\n",
    "            win = win + reward\n",
    "        if reward < 0:\n",
    "            lose = lose -reward\n",
    "\n",
    "        # Apply the reinforcement strategy\n",
    "        loss = agent.reinforce(prev_state, state,  action, reward, game_over)\n",
    "\n",
    "    # Save as a mp4\n",
    "    if e % 10 == 0:\n",
    "        env.draw(e)\n",
    "\n",
    "    # Update stats\n",
    "    score += win-lose\n",
    "\n",
    "    print(\"Epoch {:03d}/{:03d} | Loss {:.4f} | Win/lose count {}/{} ({})\"\n",
    "          .format(e, epoch, loss, win, lose, win-lose))\n",
    "    agent.save()\n",
    "```"
   ]
  },
  {
   "cell_type": "markdown",
   "metadata": {},
   "source": [
    "# The game, *eat cheese*"
   ]
  },
  {
   "cell_type": "markdown",
   "metadata": {},
   "source": [
    "A rat runs on an island and tries to eat as much as possible. The island is subdivided into $N\\times N$ cells, in which there are cheese (+0.5) and poisonous cells (-1). The rat has a visibility of 2 cells (thus it can see $5^2$ cells). The rat is given a time $T$ to accumulate as much food as possible. It can perform 4 actions: going up, down, left, right. \n",
    "\n",
    "The goal is to code an agent to solve this task that will learn by trial and error. We propose the following environment:"
   ]
  },
  {
   "cell_type": "code",
   "execution_count": 4,
   "metadata": {},
   "outputs": [],
   "source": [
    "class Environment(object):\n",
    "    def __init__(self, grid_size=10, max_time=500, temperature=0.1):\n",
    "        grid_size = grid_size+4\n",
    "        self.grid_size = grid_size\n",
    "        self.max_time = max_time\n",
    "        self.temperature = temperature\n",
    "\n",
    "        #board on which one plays\n",
    "        self.board = np.zeros((grid_size,grid_size))\n",
    "        self.position = np.zeros((grid_size,grid_size))\n",
    "\n",
    "        # coordinate of the cat\n",
    "        self.x = 0\n",
    "        self.y = 1\n",
    "\n",
    "        # self time\n",
    "        self.t = 0\n",
    "\n",
    "        self.scale=16\n",
    "\n",
    "        self.to_draw = np.zeros((max_time+2, grid_size*self.scale, grid_size*self.scale, 3))\n",
    "\n",
    "\n",
    "    def draw(self,e):\n",
    "        skvideo.io.vwrite(str(e) + '.mp4', self.to_draw)\n",
    "\n",
    "    def get_frame(self,t):\n",
    "        b = np.zeros((self.grid_size,self.grid_size,3))+128\n",
    "        b[self.board>0,0] = 256\n",
    "        b[self.board < 0, 2] = 256\n",
    "        b[self.x,self.y,:]=256\n",
    "        b[-2:,:,:]=0\n",
    "        b[:,-2:,:]=0\n",
    "        b[:2,:,:]=0\n",
    "        b[:,:2,:]=0\n",
    "        \n",
    "        b =  cv2.resize(b, None, fx=self.scale, fy=self.scale, interpolation=cv2.INTER_NEAREST)\n",
    "\n",
    "        self.to_draw[t,:,:,:]=b\n",
    "\n",
    "\n",
    "    def act(self, action):\n",
    "        \"\"\"This function returns the new state, reward and decides if the\n",
    "        game ends.\"\"\"\n",
    "\n",
    "        self.get_frame(int(self.t))\n",
    "\n",
    "        self.position = np.zeros((self.grid_size, self.grid_size))\n",
    "\n",
    "        self.position[0:2,:]= -1\n",
    "        self.position[:,0:2] = -1\n",
    "        self.position[-2:, :] = -1\n",
    "        self.position[-2:, :] = -1\n",
    "\n",
    "        self.position[self.x, self.y] = 1\n",
    "        if action == 0:\n",
    "            if self.x == self.grid_size-3:\n",
    "                self.x = self.x-1\n",
    "            else:\n",
    "                self.x = self.x + 1\n",
    "        elif action == 1:\n",
    "            if self.x == 2:\n",
    "                self.x = self.x+1\n",
    "            else:\n",
    "                self.x = self.x-1\n",
    "        elif action == 2:\n",
    "            if self.y == self.grid_size - 3:\n",
    "                self.y = self.y - 1\n",
    "            else:\n",
    "                self.y = self.y + 1\n",
    "        elif action == 3:\n",
    "            if self.y == 2:\n",
    "                self.y = self.y + 1\n",
    "            else:\n",
    "                self.y = self.y - 1\n",
    "        else:\n",
    "            RuntimeError('Error: action not recognized')\n",
    "\n",
    "        self.t = self.t + 1\n",
    "        reward = self.board[self.x, self.y]\n",
    "        self.board[self.x, self.y] = 0\n",
    "        game_over = self.t > self.max_time\n",
    "        state = np.concatenate((self.board.reshape(self.grid_size, self.grid_size,1),\n",
    "                        self.position.reshape(self.grid_size, self.grid_size,1)),axis=2)\n",
    "        state = state[self.x-2:self.x+3,self.y-2:self.y+3,:]\n",
    "\n",
    "        return state, reward, game_over\n",
    "\n",
    "    def reset(self):\n",
    "        \"\"\"This function resets the game and returns the initial state\"\"\"\n",
    "\n",
    "        self.x = np.random.randint(3, self.grid_size-3, size=1)[0]\n",
    "        self.y = np.random.randint(3, self.grid_size-3, size=1)[0]\n",
    "\n",
    "\n",
    "        bonus = 0.5*np.random.binomial(1,self.temperature,size=self.grid_size**2)\n",
    "        bonus = bonus.reshape(self.grid_size,self.grid_size)\n",
    "\n",
    "        malus = -1.0*np.random.binomial(1,self.temperature,size=self.grid_size**2)\n",
    "        malus = malus.reshape(self.grid_size, self.grid_size)\n",
    "\n",
    "        self.to_draw = np.zeros((self.max_time+2, self.grid_size*self.scale, self.grid_size*self.scale, 3))\n",
    "\n",
    "\n",
    "        malus[bonus>0]=0\n",
    "\n",
    "        self.board = bonus + malus\n",
    "\n",
    "        self.position = np.zeros((self.grid_size, self.grid_size))\n",
    "        self.position[0:2,:]= -1\n",
    "        self.position[:,0:2] = -1\n",
    "        self.position[-2:, :] = -1\n",
    "        self.position[-2:, :] = -1\n",
    "        self.board[self.x,self.y] = 0\n",
    "        self.t = 0\n",
    "\n",
    "        state = np.concatenate((\n",
    "                               self.board.reshape(self.grid_size, self.grid_size,1),\n",
    "                        self.position.reshape(self.grid_size, self.grid_size,1)),axis=2)\n",
    "\n",
    "        state = state[self.x - 2:self.x + 3, self.y - 2:self.y + 3, :]\n",
    "        return state"
   ]
  },
  {
   "cell_type": "markdown",
   "metadata": {},
   "source": [
    "The following elements are important because they correspond to the hyper parameters for this project:"
   ]
  },
  {
   "cell_type": "code",
   "execution_count": 5,
   "metadata": {},
   "outputs": [],
   "source": [
    "# parameters\n",
    "size = 13\n",
    "T=200\n",
    "temperature=0.3\n",
    "epochs_train= 51 # set small when debugging\n",
    "epochs_test= 11 # set small when debugging\n",
    "\n",
    "# display videos\n",
    "def display_videos(name):\n",
    "    video = io.open(name, 'r+b').read()\n",
    "    encoded = base64.b64encode(video)\n",
    "    return '''<video alt=\"test\" controls>\n",
    "                <source src=\"data:video/mp4;base64,{0}\" type=\"video/mp4\" />\n",
    "             </video>'''.format(encoded.decode('ascii'))"
   ]
  },
  {
   "cell_type": "markdown",
   "metadata": {},
   "source": [
    "__Question 2__ Explain the use of the arrays ```position``` and ```board```."
   ]
  },
  {
   "cell_type": "markdown",
   "metadata": {},
   "source": [
    "The ```position```array is of dimension $(N+2)\\times(N+2)$. Note that we have increased the board size by 4 in both width and height, so 2 on each side. This implies that the position array reads 0 everywhere on the original board size except on the rat's position where it reads 1. It contains -1 on the outside of the orginal board, meaning on the elements added to the inital array (2 cells wide border), which surround the original board. This gives the rat, which sees at a distance of 2, an incentive to stay within the delimited bounds of the board. \n",
    "\n",
    "Regarding the ```board``` array, it has identical dimensions (to the position array) and represents the expanded board. It is filled with either -1, 0 or 0.5 if the cell contains respectively poison, nothing and cheese. It is generated with random variables following a binomial law and serves to give rewards to the rat regarding the cell he moves to. Note that once the board has helped update the reward, the cell is set to 0."
   ]
  },
  {
   "cell_type": "markdown",
   "metadata": {},
   "source": [
    "## Random Agent"
   ]
  },
  {
   "cell_type": "markdown",
   "metadata": {},
   "source": [
    "***\n",
    "__Question 3__ Implement a random Agent (only ```learned_act``` needs to be implemented):"
   ]
  },
  {
   "cell_type": "code",
   "execution_count": 6,
   "metadata": {},
   "outputs": [],
   "source": [
    "class RandomAgent(Agent):\n",
    "    def __init__(self):\n",
    "        super(RandomAgent, self).__init__()\n",
    "        pass\n",
    "\n",
    "    def learned_act(self, s):\n",
    "        return np.random.randint(0, self.n_action, 1)"
   ]
  },
  {
   "cell_type": "markdown",
   "metadata": {},
   "source": [
    "***\n",
    "***\n",
    "__Question 4__ Visualize the game moves. You need to fill in the following function for the evaluation:"
   ]
  },
  {
   "cell_type": "code",
   "execution_count": 7,
   "metadata": {},
   "outputs": [],
   "source": [
    "def test(agent,env,epochs,prefix=''):\n",
    "    # Number of won games\n",
    "    score = 0\n",
    "        \n",
    "    for e in range(epochs):\n",
    "        \n",
    "        # At each epoch, we restart to a fresh game and get the initial state\n",
    "        state = env.reset()\n",
    "        # This assumes that the games will end\n",
    "        game_over = False\n",
    "\n",
    "        win = 0\n",
    "        lose = 0\n",
    "\n",
    "        while not game_over:\n",
    "            # The agent performs an action\n",
    "            action = agent.act(state)\n",
    "\n",
    "            # Apply an action to the environment, get the next state, the reward\n",
    "            # and if the games end\n",
    "            prev_state = state\n",
    "            state, reward, game_over = env.act(action)\n",
    "\n",
    "            # Update the counters\n",
    "            if reward > 0:\n",
    "                win = win + reward\n",
    "            if reward < 0:\n",
    "                lose = lose -reward\n",
    "\n",
    "            # Apply the reinforcement strategy\n",
    "            loss = agent.reinforce(prev_state, state,  action, reward, game_over)\n",
    "            \n",
    "        # Save as a mp4\n",
    "        if e%10 == 0: \n",
    "            env.draw(prefix+str(e))\n",
    "\n",
    "        # Update stats\n",
    "        score = score + win-lose\n",
    "\n",
    "        print(\"Win/lose count {}/{}. Average score ({})\"\n",
    "              .format(win, lose, score/(1+e)))\n",
    "    print('Final score: '+str(score/epochs))"
   ]
  },
  {
   "cell_type": "code",
   "execution_count": 169,
   "metadata": {},
   "outputs": [
    {
     "name": "stdout",
     "output_type": "stream",
     "text": [
      "Win/lose count 9.0/13.0. Average score (-4.0)\n",
      "Win/lose count 12.0/12.0. Average score (-2.0)\n",
      "Win/lose count 6.5/9.0. Average score (-2.1666666666666665)\n",
      "Win/lose count 9.0/10.0. Average score (-1.875)\n",
      "Win/lose count 9.0/10.0. Average score (-1.7)\n",
      "Win/lose count 12.5/11.0. Average score (-1.1666666666666667)\n",
      "Win/lose count 10.5/27.0. Average score (-3.357142857142857)\n",
      "Win/lose count 14.0/17.0. Average score (-3.3125)\n",
      "Win/lose count 4.0/4.0. Average score (-2.9444444444444446)\n",
      "Win/lose count 13.0/20.0. Average score (-3.35)\n",
      "Win/lose count 9.0/8.0. Average score (-2.9545454545454546)\n",
      "Win/lose count 9.5/10.0. Average score (-2.75)\n",
      "Final score: -2.75\n"
     ]
    },
    {
     "data": {
      "text/html": [
       "<video alt=\"test\" controls>\n",
       "                <source src=\"data:video/mp4;base64,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\" type=\"video/mp4\" />\n",
       "             </video>"
      ],
      "text/plain": [
       "<IPython.core.display.HTML object>"
      ]
     },
     "execution_count": 169,
     "metadata": {},
     "output_type": "execute_result"
    }
   ],
   "source": [
    "# Initialize the game\n",
    "env = Environment(grid_size=size, max_time=T,temperature=temperature)\n",
    "\n",
    "# Initialize the agent!\n",
    "agent = RandomAgent()\n",
    "\n",
    "test(agent,env,epochs_test,prefix='random')\n",
    "HTML(display_videos('random0.mp4'))"
   ]
  },
  {
   "cell_type": "markdown",
   "metadata": {},
   "source": [
    "***\n",
    "## DQN"
   ]
  },
  {
   "cell_type": "markdown",
   "metadata": {},
   "source": [
    "Let us assume here that $T=\\infty$.\n",
    "\n",
    "***\n",
    "__Question 5__ Let $\\pi$ be a policy, show that:\n",
    "\n",
    "\\begin{equation*}\n",
    "Q^{\\pi}(s,a)=E_{(s',a')\\sim p(.|s,a)}[r(s,a)+\\gamma Q^{\\pi}(s',a')]\n",
    "\\end{equation*}\n",
    "\n",
    "Then, show that for the optimal policy $\\pi^*$ (we assume its existence), the following holds: \n",
    "\n",
    "\\begin{equation*}\n",
    "Q^{*}(s,a)=E_{s'\\sim \\pi^*(.|s,a)}[r(s,a)+\\gamma\\max_{a'}Q^{*}(s',a')].\n",
    "\\end{equation*}\n",
    "Finally, deduce that a plausible objective is:\n",
    "\n",
    "\\begin{equation*}\n",
    "\\mathcal{L}(\\theta)=E_{s' \\sim \\pi^*(.|s,a)}\\Vert r+\\gamma\\max\\max_{a'}Q(s',a',\\theta)-Q(s,a,\\theta)\\Vert^{2}.\n",
    "\\end{equation*}\n",
    "\n",
    "\n"
   ]
  },
  {
   "cell_type": "markdown",
   "metadata": {},
   "source": [
    "1) \n",
    "\n",
    "$Q^\\pi(s,a) = E_{\\pi}[\\sum_0^T \\gamma^t r(s_t,a_t) | s_0 = s, a_0 = a]$ \n",
    "\n",
    "$Q^\\pi(s,a) = E_{\\pi} [r(s,a) + \\sum_{1\\leq t \\leq T} \\gamma^t r(s_t,a_t) | s_0=s, a_0=a]$\n",
    "\n",
    "$Q^\\pi(s,a) = r(s,a) + \\sum_{s'} P_{ss'}^a \\gamma E_{\\pi} [\\sum_0^T \\gamma^t r(s_{t+1}, a_{t+1}) | s_1 = s']$\n",
    "\n",
    "$Q^\\pi(s,a) = r(s,a) + \\sum_{s'} P_{ss'}^a \\sum_{a'} \\pi(s',a') \\gamma E_{\\pi} [\\sum_0^T \\gamma^t r(s_{t+1}, a_{t+1}) | s_1 = s', a_1 = a'] $\n",
    "\n",
    "$Q^\\pi(s,a) = r(s,a) + \\sum_{s'} P_{ss'}^a \\sum_{a'} \\pi(s',a') \\gamma Q^\\pi(s',a') $\n",
    "\n",
    "$Q^\\pi(s,a) = E_{(s',a')\\sim p(.|s,a)} [r(s,a) + \\gamma Q^\\pi(s',a')]$\n",
    "\n",
    "\n",
    "2) \n",
    "\n",
    "$Q^*(s,a) = max_\\pi Q^\\pi(s,a) = max_\\pi [r(s,a) + \\sum_{s'} P_{ss'}^a \\sum_{a'} \\pi(s',a') \\gamma Q^\\pi(s',a')]$\n",
    "\n",
    "$Q^*(s,a) = max_\\pi Q^\\pi(s,a) = r(s,a) + \\sum_{s'} P_{ss'}^a max_\\pi [\\sum_{a'} \\pi(s',a') \\gamma Q^\\pi(s',a')]$\n",
    "\n",
    "$Q^*(s,a) = r(s,a) + \\sum_{s'} P_{ss'}^a \\gamma max_{a'} Q^*(s',a')$\n",
    "\n",
    "$Q^*(s,a) = E_{s' \\sim \\pi(.|s,a)} [r(s,a) + \\gamma max_{a'} Q^*(s',a')]$ \n",
    "\n",
    "\n",
    "3) \n",
    "\n",
    "$L(\\theta) = E_{s'\\sim \\pi^*(.|s,a)} || r + \\gamma max max_{a'} Q(s',a',\\theta) - Q(s,a,\\theta) ||^2  $\n",
    "\n",
    "which can be rewritten as \n",
    "\n",
    "$L(\\theta) = E_{s'\\sim \\pi^*(.|s,a)} || (r - \\sum_{s'} P_{ss'}^a R_{ss'}^a) + \\gamma (max max_{a'} Q^*(s',a',\\theta) - E_{(s',a') \\sim p(.|s,a)}[Q^\\pi(s',a',\\theta)] )  ||^2  $\n",
    "\n",
    "From this equation, it appears that the right hand term in the norm will be a small positive number, probably negligible in the long run. The left hand side component, on the opposite, is the difference between the actual and expected rewards we can obtain at the next time step. This quantity can have a much bigger impact on the loss function so the individual, by maximising the loss, will be encouraged to maximise its immediate reward (LHS), without compromising too much its future state value function (supposing he will take the best action) (RHS). "
   ]
  },
  {
   "cell_type": "markdown",
   "metadata": {},
   "source": [
    "***\n",
    "The DQN-learning algorithm relies on these derivations to train the parameters $\\theta$ of a Deep Neural Network:\n",
    "\n",
    "1. At the state $s_t$, select the action $a_t$ with best reward using $Q_t$ and store the results;\n",
    "\n",
    "2. Obtain the new state $s_{t+1}$ from the environment $p$;\n",
    "\n",
    "3. Store $(s_t,a_t,s_{t+1})$;\n",
    "\n",
    "4. Obtain $Q_{t+1}$ by minimizing  $\\mathcal{L}$ from a recovered batch from the previously stored results.\n",
    "\n",
    "***\n",
    "__Question 6__ Implement the class ```Memory``` that stores moves (in a replay buffer) via ```remember``` and provides a ```random_access``` to these. Specify a maximum memory size to avoid side effects. You can for example use a ```list()``` and set by default ```max_memory=100```."
   ]
  },
  {
   "cell_type": "code",
   "execution_count": 8,
   "metadata": {},
   "outputs": [],
   "source": [
    "class Memory(object):\n",
    "    def __init__(self, max_memory=100):\n",
    "        self.max_memory = max_memory\n",
    "        self.memory = list()\n",
    "\n",
    "    def remember(self, m):\n",
    "        # stores move\n",
    "        self.memory.insert(0, m)\n",
    "        if len(self.memory) > self.max_memory: \n",
    "            self.memory.pop(self.max_memory)\n",
    "\n",
    "    def random_access(self):\n",
    "        n = np.random.randint(len(self.memory))\n",
    "        return self.memory[n]"
   ]
  },
  {
   "cell_type": "markdown",
   "metadata": {},
   "source": [
    "***\n",
    "The pipeline we will use for training is given below:"
   ]
  },
  {
   "cell_type": "code",
   "execution_count": 9,
   "metadata": {},
   "outputs": [],
   "source": [
    "def train(agent,env,epoch,prefix=''):\n",
    "    # Number of won games\n",
    "    score = 0\n",
    "    loss = 0\n",
    "\n",
    "    for e in range(epoch):\n",
    "        # At each epoch, we restart to a fresh game and get the initial state\n",
    "        state = env.reset()\n",
    "        # This assumes that the games will terminate\n",
    "        game_over = False\n",
    "\n",
    "        win = 0\n",
    "        lose = 0\n",
    "\n",
    "        while not game_over:\n",
    "            # The agent performs an action\n",
    "            action = agent.act(state)\n",
    "\n",
    "            # Apply an action to the environment, get the next state, the reward\n",
    "            # and if the games end\n",
    "            prev_state = state\n",
    "            state, reward, game_over = env.act(action)\n",
    "\n",
    "            # Update the counters\n",
    "            if reward > 0:\n",
    "                win = win + reward\n",
    "            if reward < 0:\n",
    "                lose = lose -reward\n",
    "\n",
    "            # Apply the reinforcement strategy\n",
    "            loss = agent.reinforce(prev_state, state,  action, reward, game_over)\n",
    "\n",
    "        # Save as a mp4\n",
    "        if e % 10 == 0:\n",
    "            env.draw(prefix+str(e))\n",
    "\n",
    "        # Update stats\n",
    "        score += win-lose\n",
    "        \n",
    "        print(\"Epoch {:03d}/{:03d} | Loss {:.4f} | Win/lose count {}/{} ({})\"\n",
    "              .format(e, epoch, loss, win, lose, win-lose))\n",
    "        agent.save(name_weights=prefix+'model.h5',name_model=prefix+'model.json')"
   ]
  },
  {
   "cell_type": "markdown",
   "metadata": {},
   "source": [
    "***\n",
    "__Question 7__ Implement the DQN training algorithm using a cascade of fully connected layers. You can use different learning rate, batch size or memory size parameters. In particular, the loss might oscillate while the player will start to win the games. You have to find a good criterium."
   ]
  },
  {
   "cell_type": "code",
   "execution_count": 10,
   "metadata": {},
   "outputs": [],
   "source": [
    "class DQN(Agent):\n",
    "    def __init__(self, grid_size,  epsilon = 0.1, memory_size=100, batch_size = 16, n_state=2):\n",
    "        super(DQN, self).__init__(epsilon = epsilon)\n",
    "\n",
    "        # Discount for Q learning\n",
    "        self.discount = 0.99\n",
    "        \n",
    "        self.grid_size = grid_size\n",
    "        \n",
    "        # number of state\n",
    "        self.n_state = n_state\n",
    "\n",
    "        # Memory\n",
    "        self.memory = Memory(memory_size)\n",
    "        \n",
    "        # Batch size when learning\n",
    "        self.batch_size = batch_size\n",
    "\n",
    "    def learned_act(self, s):\n",
    "        # Uniquely needs to defined what action you take given current state  \n",
    "        # Select the action adviced by neural network\n",
    "        # Reshape s (add 1 in front because expecting (batch_size,5,5,2))\n",
    "        return np.argmax(self.model.predict(s.reshape(1, *s.shape))[0])\n",
    "    \n",
    "\n",
    "    def save(self,name_weights='model.h5',name_model='model.json'):\n",
    "        self.model.save_weights(name_weights, overwrite=True)\n",
    "        with open(name_model, \"w\") as outfile:\n",
    "            json.dump(self.model.to_json(), outfile)\n",
    "            \n",
    "    def load(self,name_weights='model.h5',name_model='model.json'):\n",
    "        with open(name_model, \"r\") as jfile:\n",
    "            model = model_from_json(json.load(jfile))\n",
    "        model.load_weights(name_weights)\n",
    "        model.compile(\"sgd\", \"mse\")\n",
    "        self.model = model\n",
    "   \n",
    "    \n",
    "    def reinforce(self, s_, n_s_, a_, r_, game_over_):\n",
    "        # Two steps: first memorize the states, second learn from the pool\n",
    "        \n",
    "        self.memory.remember([s_, n_s_, a_, r_, game_over_])\n",
    "        input_states = np.zeros((self.batch_size, 5,5,self.n_state))\n",
    "        target_q = np.zeros((self.batch_size, 4))\n",
    "        \n",
    "        for i in range(self.batch_size):\n",
    "            (envstate, envstate_next, action, reward, game_over_) = self.memory.random_access()\n",
    "            input_states[i, :, :, :] = envstate\n",
    "            if game_over_:\n",
    "                target_q[i, action] = reward\n",
    "            else:\n",
    "                Q_sa = np.max(self.model.predict(envstate_next.reshape(1, *envstate_next.shape))[0])\n",
    "                target_q[i, action] = reward + self.discount * Q_sa\n",
    "        \n",
    "        # HINT: Clip the target to avoid exploiding gradients.. -- clipping is a bit tighter\n",
    "        target_q = np.clip(target_q, -3, 3)\n",
    "        l = self.model.train_on_batch(input_states, target_q)\n",
    "        \n",
    "        return l\n",
    "    \n",
    "        \n",
    "class DQN_FC(DQN):\n",
    "    def __init__(self, *args, lr=0.1,**kwargs):\n",
    "        super(DQN_FC, self).__init__( *args,**kwargs)\n",
    "        \n",
    "        # NN Model\n",
    "        model = Sequential()\n",
    "        model.add(Flatten())\n",
    "        model.add(Dense(64))\n",
    "        model.add(Dense(128))\n",
    "        model.add(Dense(64))\n",
    "        model.add(Dense(self.n_action))\n",
    "        \n",
    "        model.compile(sgd(lr=lr, decay=1e-4, momentum=0.0), \"mse\")\n",
    "        self.model = model\n",
    "        "
   ]
  },
  {
   "cell_type": "code",
   "execution_count": 12,
   "metadata": {},
   "outputs": [
    {
     "name": "stdout",
     "output_type": "stream",
     "text": [
      "Epoch 000/030 | Loss 0.0070 | Win/lose count 1.5/4.0 (-2.5)\n",
      "Epoch 001/030 | Loss 0.0000 | Win/lose count 0/0 (0)\n",
      "Epoch 002/030 | Loss 0.0080 | Win/lose count 0.5/0 (0.5)\n",
      "Epoch 003/030 | Loss 0.0041 | Win/lose count 2.0/2.0 (0.0)\n",
      "Epoch 004/030 | Loss 0.0003 | Win/lose count 0.5/0 (0.5)\n",
      "Epoch 005/030 | Loss 0.0002 | Win/lose count 0.5/0 (0.5)\n",
      "Epoch 006/030 | Loss 0.0002 | Win/lose count 1.5/1.0 (0.5)\n",
      "Epoch 007/030 | Loss 0.0025 | Win/lose count 1.5/0 (1.5)\n",
      "Epoch 008/030 | Loss 0.0007 | Win/lose count 3.0/0 (3.0)\n",
      "Epoch 009/030 | Loss 0.0004 | Win/lose count 1.5/0 (1.5)\n",
      "Epoch 010/030 | Loss 0.0004 | Win/lose count 10.0/2.0 (8.0)\n",
      "Epoch 011/030 | Loss 0.0008 | Win/lose count 4.0/1.0 (3.0)\n",
      "Epoch 012/030 | Loss 0.0099 | Win/lose count 5.0/3.0 (2.0)\n",
      "Epoch 013/030 | Loss 0.0038 | Win/lose count 2.5/1.0 (1.5)\n",
      "Epoch 014/030 | Loss 0.0019 | Win/lose count 4.0/2.0 (2.0)\n",
      "Epoch 015/030 | Loss 0.0059 | Win/lose count 6.5/0 (6.5)\n",
      "Epoch 016/030 | Loss 0.0089 | Win/lose count 7.5/0 (7.5)\n",
      "Epoch 017/030 | Loss 0.0063 | Win/lose count 6.0/2.0 (4.0)\n",
      "Epoch 018/030 | Loss 0.0042 | Win/lose count 3.0/1.0 (2.0)\n",
      "Epoch 019/030 | Loss 0.0018 | Win/lose count 4.5/1.0 (3.5)\n",
      "Epoch 020/030 | Loss 0.0129 | Win/lose count 3.0/1.0 (2.0)\n",
      "Epoch 021/030 | Loss 0.0084 | Win/lose count 3.5/0 (3.5)\n",
      "Epoch 022/030 | Loss 0.0042 | Win/lose count 1.5/1.0 (0.5)\n",
      "Epoch 023/030 | Loss 0.0047 | Win/lose count 3.0/0 (3.0)\n",
      "Epoch 024/030 | Loss 0.0033 | Win/lose count 3.5/1.0 (2.5)\n",
      "Epoch 025/030 | Loss 0.0036 | Win/lose count 4.0/2.0 (2.0)\n",
      "Epoch 026/030 | Loss 0.0062 | Win/lose count 3.5/0 (3.5)\n",
      "Epoch 027/030 | Loss 0.0035 | Win/lose count 4.5/4.0 (0.5)\n",
      "Epoch 028/030 | Loss 0.0069 | Win/lose count 4.0/2.0 (2.0)\n",
      "Epoch 029/030 | Loss 0.0077 | Win/lose count 4.5/1.0 (3.5)\n"
     ]
    },
    {
     "data": {
      "text/html": [
       "<video alt=\"test\" controls>\n",
       "                <source src=\"data:video/mp4;base64,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\" type=\"video/mp4\" />\n",
       "             </video>"
      ],
      "text/plain": [
       "<IPython.core.display.HTML object>"
      ]
     },
     "execution_count": 12,
     "metadata": {},
     "output_type": "execute_result"
    }
   ],
   "source": [
    "epochs_train = 30\n",
    "env = Environment(grid_size=size, max_time=T, temperature=0.3)\n",
    "agent = DQN_FC(size, lr=.1, epsilon = 0.01, memory_size=2000, batch_size = 32)\n",
    "train(agent, env, epochs_train, prefix='fc_train')\n",
    "HTML(display_videos('fc_train10.mp4'))"
   ]
  },
  {
   "cell_type": "markdown",
   "metadata": {},
   "source": [
    "***\n",
    "***\n",
    "__Question 8__ Implement the DQN training algorithm using a CNN (for example, 2 convolutional layers and one final fully connected layer)."
   ]
  },
  {
   "cell_type": "code",
   "execution_count": 13,
   "metadata": {},
   "outputs": [],
   "source": [
    "class DQN_CNN(DQN):\n",
    "    def __init__(self, *args,lr=0.1,**kwargs):\n",
    "        super(DQN_CNN, self).__init__(*args,**kwargs)\n",
    "        \n",
    "        ###### FILL IN\n",
    "        model = Sequential()\n",
    "        model.add(Conv2D(4, (3, 3), padding=\"same\", activation=\"relu\"))\n",
    "        model.add(Conv2D(8, (3, 3), padding=\"same\", activation=\"relu\"))\n",
    "        model.add(Conv2D(16, (3, 3), padding=\"same\", activation=\"relu\"))\n",
    "        model.add(Flatten())\n",
    "        model.add(Dense(32))\n",
    "        model.add(Dense(self.n_action, activation ='linear'))\n",
    "        \n",
    "        model.compile(sgd(lr=lr, decay=1e-4, momentum=0.0), \"mse\")\n",
    "        self.model = model"
   ]
  },
  {
   "cell_type": "code",
   "execution_count": 14,
   "metadata": {},
   "outputs": [
    {
     "name": "stdout",
     "output_type": "stream",
     "text": [
      "Epoch 000/030 | Loss 0.0219 | Win/lose count 13.0/18.0 (-5.0)\n",
      "Epoch 001/030 | Loss 0.0124 | Win/lose count 10.0/2.0 (8.0)\n",
      "Epoch 002/030 | Loss 0.0169 | Win/lose count 3.5/4.0 (-0.5)\n",
      "Epoch 003/030 | Loss 0.0117 | Win/lose count 3.5/3.0 (0.5)\n",
      "Epoch 004/030 | Loss 0.0099 | Win/lose count 6.0/5.0 (1.0)\n",
      "Epoch 005/030 | Loss 0.0262 | Win/lose count 1.5/2.0 (-0.5)\n",
      "Epoch 006/030 | Loss 0.0107 | Win/lose count 3.0/4.0 (-1.0)\n",
      "Epoch 007/030 | Loss 0.0027 | Win/lose count 2.0/3.0 (-1.0)\n",
      "Epoch 008/030 | Loss 0.0172 | Win/lose count 5.5/1.0 (4.5)\n",
      "Epoch 009/030 | Loss 0.0065 | Win/lose count 6.0/9.0 (-3.0)\n",
      "Epoch 010/030 | Loss 0.0044 | Win/lose count 6.0/4.0 (2.0)\n",
      "Epoch 011/030 | Loss 0.0039 | Win/lose count 2.0/0 (2.0)\n",
      "Epoch 012/030 | Loss 0.0067 | Win/lose count 3.0/2.0 (1.0)\n",
      "Epoch 013/030 | Loss 0.0075 | Win/lose count 5.0/4.0 (1.0)\n",
      "Epoch 014/030 | Loss 0.0065 | Win/lose count 4.0/2.0 (2.0)\n",
      "Epoch 015/030 | Loss 0.0153 | Win/lose count 5.5/3.0 (2.5)\n",
      "Epoch 016/030 | Loss 0.0123 | Win/lose count 10.0/4.0 (6.0)\n",
      "Epoch 017/030 | Loss 0.0026 | Win/lose count 7.5/2.0 (5.5)\n",
      "Epoch 018/030 | Loss 0.0018 | Win/lose count 10.0/2.0 (8.0)\n",
      "Epoch 019/030 | Loss 0.0029 | Win/lose count 15.0/2.0 (13.0)\n",
      "Epoch 020/030 | Loss 0.0069 | Win/lose count 9.0/2.0 (7.0)\n",
      "Epoch 021/030 | Loss 0.0094 | Win/lose count 9.0/3.0 (6.0)\n",
      "Epoch 022/030 | Loss 0.0102 | Win/lose count 8.5/4.0 (4.5)\n",
      "Epoch 023/030 | Loss 0.0056 | Win/lose count 8.5/4.0 (4.5)\n",
      "Epoch 024/030 | Loss 0.0032 | Win/lose count 5.0/2.0 (3.0)\n",
      "Epoch 025/030 | Loss 0.0100 | Win/lose count 7.0/2.0 (5.0)\n",
      "Epoch 026/030 | Loss 0.0112 | Win/lose count 4.0/4.0 (0.0)\n",
      "Epoch 027/030 | Loss 0.0045 | Win/lose count 9.5/2.0 (7.5)\n",
      "Epoch 028/030 | Loss 0.0078 | Win/lose count 4.0/3.0 (1.0)\n",
      "Epoch 029/030 | Loss 0.0028 | Win/lose count 4.0/0 (4.0)\n"
     ]
    },
    {
     "data": {
      "text/html": [
       "<video alt=\"test\" controls>\n",
       "                <source src=\"data:video/mp4;base64,AAAAIGZ0eXBpc29tAAACAGlzb21pc28yYXZjMW1wNDEAAAAIZnJlZQAAFvptZGF0AAACnwYF//+b3EXpvebZSLeWLNgg2SPu73gyNjQgLSBjb3JlIDE1MiAtIEguMjY0L01QRUctNCBBVkMgY29kZWMgLSBDb3B5bGVmdCAyMDAzLTIwMTcgLSBodHRwOi8vd3d3LnZpZGVvbGFuLm9yZy94MjY0Lmh0bWwgLSBvcHRpb25zOiBjYWJhYz0xIHJlZj0zIGRlYmxvY2s9MTowOjAgYW5hbHlzZT0weDE6MHgxMTEgbWU9aGV4IHN1Ym1lPTcgcHN5PTEgcHN5X3JkPTEuMDA6MC4wMCBtaXhlZF9yZWY9MSBtZV9yYW5nZT0xNiBjaHJvbWFfbWU9MSB0cmVsbGlzPTEgOHg4ZGN0PTAgY3FtPTAgZGVhZHpvbmU9MjEsMTEgZmFzdF9wc2tpcD0xIGNocm9tYV9xcF9vZmZzZXQ9NCB0aHJlYWRzPTYgbG9va2FoZWFkX3RocmVhZHM9MSBzbGljZWRfdGhyZWFkcz0wIG5yPTAgZGVjaW1hdGU9MSBpbnRlcmxhY2VkPTAgYmx1cmF5X2NvbXBhdD0wIGNvbnN0cmFpbmVkX2ludHJhPTAgYmZyYW1lcz0zIGJfcHlyYW1pZD0yIGJfYWRhcHQ9MSBiX2JpYXM9MCBkaXJlY3Q9MSB3ZWlnaHRiPTEgb3Blbl9nb3A9MCB3ZWlnaHRwPTIga2V5aW50PTI1MCBrZXlpbnRfbWluPTI1IHNjZW5lY3V0PTQwIGludHJhX3JlZnJlc2g9MCByY19sb29rYWhlYWQ9NDAgcmM9Y3JmIG1idHJlZT0xIGNyZj0yMy4wIHFjb21wPTAuNjAgcXBtaW49MCBxcG1heD02OSBxcHN0ZXA9NCBpcF9yYXRpbz0xLjQwIGFxPTE6MS4wMACAAAACqmWIhAA3//72h/gU2VgT/lm//Q1/3I/bj6z9cWMhBN9aryHowBkvtR/m/6xRbOmelAf34AiUAHNuGcKR2SeOsOTCL1R8ClwE++BTSZFn1jIHt30KHYbqf1liiBCg1DusUn5WjKwQbI5nXbh3P7b2rzNcxyE1DpBBJtLZN5btE41OCY0z7DcjLlw+7AOuNF5tafDoiMpSzSdL1RMH8eEQyIyk9BDHH+xahREmmCti6FxGJbHP0Rx1NkC2Crih74xYDCU96Zd4+MGOlmtJ0eTPQA1K7n945gorqCSluldN/y6P49DqAWnw/3OEUN3IACFQBO+mWVJ1M0PsTsuoW78/EIAqjyNR3YkIRrltR/yH4gEpAnAZcm3yfHY/g4cKiqkbqVmWJjbRwNfPBJSmI5SnFuMQ9KBATLSbdsAqvvVpXaRWkPAB/COjJmYMgCjHm6+wenzK4MiBOP8+fYwSMWlJidwB80kTXJvGR1IIQTqqgU5QTPi3aMclRU97jjJ7uC+8XzaCM1Ob+d9EGyQjB1JIj2ItqqSto4ENMughBP12Y2tlDGgE+HGjFJTHEb2Yv/AZp6aMAYImp5myiOOzMi/M/qnBSWy9DkPKGTfKjU6jFqfAEzED7yCvoiHbdffEpumZ+LqEy0VResPvubGo7SAAkNbKppBhNbsiZ12Q4ZYj9WItK70184BTYr5S7GtSc9072P4qW6XZHnXDIf/YlTtfipUNQvIGAFXaMr7o2xlg/vLPUtKPBtjYgbGwi8p2lzxJPLBmP/AxT6axhxAqg0ELVlM9xwfptGWKQMBbIKgT6a4Q5s48RA2e0DkrINRkXvJYDxjID5SxBLqyOArqE2znREUklnvPKSwKg4b1jOEMSflXqNjUy5TuW4nuq6vcbrgHMv2yppeADgAABmUAAAAXQZojbEN//qeEADN8NZtzXjp8IZzh5IAAAAAQQZ5BeIV/ACoZomGN9Lz24QAAABABnmJqQr8AKyo0TImlZyBAAAAAHUGaZ0moQWiZTAhv//6nhABRsVqmP9HE/y2Slx+zAAAAFUGehUURLC//ADEKmgBx9FjE890vgQAAABABnqR0Qr8APjGZEdizFHT5AAAADwGepmpCvwBBdiPJcz5KEwAAABlBmqhJqEFsmUwIb//+p4QAU/FaQQif5bcrAAAAGkGay0nhClJlMCG//qeEAH99g/y10h1Bg4eAAAAAEkGe6UU0TCv/AGmhpd3f0iteQQAAAA4BnwpqQr8AaYlxmDga8gAAABlBmwxJqEFomUwIb//+p4QAUj3U4/w+rbczAAAAF0GbL0nhClJlMCG//qeEAFHBP+J/ltzNAAAAEUGfTUU0TCv/AEF2KwSErfgnAAAADgGfbmpCvwBBdkxXAlCZAAAAGEGbckmoQWiZTAhv//6nhABSPdTmwKCvqQAAABFBn5BFESwr/wBDc0bzQsH4FgAAAA4Bn7FqQr8AQ2UYybkoLQAAABpBm7NJqEFsmUwId//+qZYAPQmQk3Dgo+aXcAAAABlBm9ZJ4QpSZTAh3/6plgBgKkGaAPSX1/nwAAAAEUGf9EU0TCv/AJrs7/o5IqlbAAAADgGeFWpCvwCa7PXNeqVsAAAAHUGaGEmoQWiZTBTw7/6plgBlIMMUzyEozpf3oPW1AAAAEAGeN2pCvwCj2EeS5nyS4IEAAAAbQZo8SeEKUmUwId/+qZYAoMFmLTNAVXx59CaCAAAAEEGeWkU0TC//AL6ywT42/yEAAAAPAZ55dEK/AP70ncGyXjJmAAAADwGee2pCvwD/DWBdf37lQQAAABNBmmBJqEFomUwId//+qZYAAJWBAAAADEGenkURLC//AACygAAAABABnr10Qr8A+1SO/AB9untAAAAAEAGev2pCvwD7VI72ePt09oEAAAAcQZqkSahBbJlMCHf//qmWAKH7S/rnBLOUG4OmggAAABBBnsJFFSwv/wC+0CClDB1JAAAADwGe4XRCvwD+tGLgPy0KwAAAAA8BnuNqQr8A/pW6UaQ8SmcAAAAcQZroSahBbJlMCHf//qmWAGW9pf1/VahZClz2TwAAABBBnwZFFSwv/wB206d/m76pAAAADwGfJXRCvwCjxjFwH5aaoQAAAA8BnydqQr8Ao7bdKNIeJeEAAAATQZssSahBbJlMCHf//qmWAACVgAAAABtBn0pFFSwv/wBOtuv+Epuf/4hBfE//8pR2e3EAAAAPAZ9pdEK/AGwkPxvUEa2fAAAADwGfa2pCvwBsCL5m2ZGtnwAAABNBm3BJqEFsmUwId//+qZYAAJWBAAAADEGfjkUVLC//AACygQAAABABn610Qr8AaZ5N0dt8Kt6BAAAADwGfr2pCvwBpgWNErnl1gQAAABNBm7RJqEFsmUwId//+qZYAAJWAAAAADEGf0kUVLC//AACygQAAABABn/F0Qr8AaZ5N0dt8Kt6AAAAADwGf82pCvwBpgWNErnl1gQAAAB5Bm/hJqEFsmUwIb//+p4QAg3w58yyxMjvu1pcW9W0AAAAQQZ4WRRUsL/8AT6g2eeLIIAAAAA8BnjV0Qr8AaZ5N55xawIEAAAAQAZ43akK/AGwdU8lzPkmrgQAAABpBmjlJqEFsmUwId//+qZYAQn486WdHU8jLwAAAABFBml1J4QpSZTAhv/6nhAABJwAAAAxBnntFNEwv/wAAsoAAAAAQAZ6adEK/AGhzk4jsuyregQAAAA8BnpxqQr8AaHOTdZ6s9YEAAAAaQZqeSahBaJlMCHf//qmWAEB+PP37INxUBeAAAAAWQZqiSeEKUmUwId/+qZYAK776vufBwAAAABRBnsBFNEwv/wAzgf382DpnLdRbgQAAABABnv90Qr8ARXcd5Wyh6WGAAAAAEAGe4WpCvwBFXmiZE0rN9MEAAAAZQZrmSahBaJlMCHf//qmWACqe+r744pkTjQAAABBBnwRFESwv/wAyQjjO5SehAAAAEAGfI3RCvwBDXak8r8lNqBEAAAAPAZ8lakK/AEVta7vu967BAAAAGUGbKkmoQWyZTAh3//6plgAqYuQj++r7tUkAAAAQQZ9IRRUsL/8AMkq8b2CReAAAAA8Bn2d0Qr8ARYQB0JyXrsAAAAAQAZ9pakK/AEVeaJkTSs30wQAAABxBm25JqEFsmUwId//+qZYAKp76vvRNTqEG4OteAAAAEEGfjEUVLC//ADJKu7/N6bAAAAAPAZ+rdEK/AENtGLgPy3bBAAAAEAGfrWpCvwBDZPnOtDC8n4EAAAAeQZuwSahBbJlMFEw7//6plgAb15GBaLPC3vHn3sfpAAAAEAGfz2pCvwAtdhHkuZ8lTIAAAAASQZvUSeEKUmUwId/+qZYAAJWAAAAAEUGf8kU0TC//ADJORK/iBvmBAAAAEAGeEXRCvwBFhAHO2ONNIWAAAAAQAZ4TakK/AENlkMPoCQcemAAAABNBmhhJqEFomUwId//+qZYAAJWBAAAAEEGeNkURLC//ADJRLc/XEi8AAAAQAZ5VdEK/AEWEAc7Y400hYQAAABABnldqQr8AQ2WQw+gJBx6ZAAAAE0GaXEmoQWyZTAh3//6plgAAlYAAAAAMQZ56RRUsL/8AALKBAAAADwGemXRCvwAs9lHEdl2V/wAAAA8BnptqQr8ALPZRus9We70AAAATQZqASahBbJlMCHf//qmWAACVgQAAAAxBnr5FFSwv/wAAsoAAAAAPAZ7ddEK/ACz2UcR2XZX/AAAADwGe32pCvwAs9lG6z1Z7vQAAABNBmsRJqEFsmUwId//+qZYAAJWAAAAADEGe4kUVLC//AACygQAAAA8BnwF0Qr8ALPZRxHZdlf8AAAAPAZ8DakK/ACz2UbrPVnu9AAAAHEGbB0moQWyZTAh3//6plgAb721AP7wtQT+wHtEAAAAPQZ8lRRUsK/8ALW1uGxtBAAAADQGfRmpCvwAtfKRb2NsAAAAbQZtLSahBbJlMCHf//qmWACuDPxmgO76MeuHmAAAAEEGfaUUVLC//ADOKu7/N6TAAAAAPAZ+IdEK/ACxRhAZJcwOBAAAADwGfimpCvwBFdnluGzanGwAAABlBm49JqEFsmUwId//+qZYAK776vvRQDI+fAAAAEEGfrUUVLC//ADOCN3uAgsEAAAAQAZ/MdEK/AEVdWjJLf64TgQAAAA8Bn85qQr8ALWo0TUlONoEAAAASQZvTSahBbJlMCG///qeEAAEnAAAADEGf8UUVLC//AACygAAAAA8BnhB0Qr8ALXaO6O2+Ff8AAAAPAZ4SakK/AC1qNEFqPLu9AAAAEkGaF0moQWyZTAhv//6nhAABJwAAAAxBnjVFFSwv/wAAsoEAAAAPAZ5UdEK/AC12jujtvhX/AAAADwGeVmpCvwAtajRBajy7vQAAABlBmlpJqEFsmUwIZ//+nhAA0/r7u05u4t4dAAAAEUGeeEUVLCv/AC10o3mhYPyZAAAADgGemWpCvwAtbYxk3JUzAAAAGUGam0moQWyZTAhv//6nhAA0/sHr2Z8EWEkAAAAZQZq8SeEKUmUwIb/+p4QAM77B/hOC3QlvQQAAAB1Bmt5J4Q6JlMFNEw3//qeEACDfHT7rSzNTbotnWQAAABABnv1qQr8AG6Zua48VbUrgAAAAGUGa/0nhDyZTAh3//qmWAAtullcZpf2wTMAAAAAdQZsDSeEPJlMCHf/+qZYAC3/KSM3+ZoVAtFMQ4vEAAAAQQZ8hRRE8L/8ADYCOM7lv4AAAABABn0B0Qr8AEt3HeVsoesWBAAAADwGfQmpCvwAS21ru+74gwAAAABlBm0dJqEFomUwIb//+p4QAFrEMvb3U/a3jAAAAEEGfZUURLC//AA2CrxvYKrkAAAAPAZ+EdEK/ABLhAHQnJiDBAAAAEAGfhmpCvwASXaITcZ9epSkAAAAcQZuJSahBbJlMFEw7//6plgALf8pJ5/vjimRfEAAAABABn6hqQr8AEllkMPoCQdGYAAAAEUGbrUnhClJlMCG//qeEAAEnAAAADEGfy0U0TC//AACygAAAABABn+p0Qr8ADB5yd+AD7iNAAAAAEAGf7GpCvwAMHnJ3s8fcRoEAAAAaQZvwSahBaJlMCG///qeEABc/RP9VwGPxR8EAAAASQZ4ORREsK/8AEt2eBCRj922BAAAADgGeL2pCvwAS3Z66fqlsAAAAGkGaMUmoQWyZTAh3//6plgALx76sqszbMErAAAAAHEGaVUnhClJlMCG//qeEABbPj9BDP5IwAt0W3iEAAAAQQZ5zRTRML/8ADYKvG9gquAAAAA8BnpJ0Qr8AEltCAyS54IAAAAAQAZ6UakK/ABLc0bzTFW1iwQAAABJBmplJqEFomUwIb//+p4QAAScAAAAMQZ63RREsL/8AALKBAAAAEAGe1nRCvwAS4QBz+wW5YMEAAAAQAZ7YakK/ABLbWu6yg3LBgAAAABpBmtpJqEFsmUwIb//+p4QAFz9E/1XAY/FHwQAAABlBmvtJ4QpSZTAh3/6plgALx76sqszbMErAAAAAGkGbH0nhDomUwIb//qeEABbPj9Dg/kjIE8HFAAAAEEGfPUURPC//AA2CrxvYKrkAAAAPAZ9cdEK/ABJbQgMkueCAAAAAEAGfXmpCvwAS3NG80xVtYsAAAAAZQZtCSahBaJlMCG///qeEAA7nsHr2Z8EW3wAAABJBn2BFESwr/wAS3p13d/SLQYAAAAAOAZ+BakK/ABLZXXceCg0AAAAZQZuDSahBbJlMCG///qeEAA6PsHr2Z8EW5wAAABFBm6dJ4QpSZTAhn/6eEAAEfQAAAAxBn8VFNEwv/wAAsoEAAAAQAZ/kdEK/AAuFlHEdl2Y5gQAAAA8Bn+ZqQr8AC4WUbrPVoDMAAAAZQZvoSahBaJlMCGf//p4QADd+vu7Tm7i6ZgAAABlBmglJ4QpSZTAhv/6nhAAN377Mf4fVt5+AAAAAGUGaKknhDomUwIb//qeEAA2Pvs+o40JDvSEAAAAZQZpLSeEPJlMCG//+p4QACLfHT6jjQkPgQAAAACBBmm1J4Q8mUwURPDv//qmWAALf76vgDx4/q61nKDcRqwAAABABnoxqQr8ABJZPnOtDDDjBAAAAEkGakUnhDyZTAh3//qmWAACVgQAAAAxBnq9FETwv/wAAsoEAAAAQAZ7OdEK/AALhZRxHZdpJgAAAABABntBqQr8ABHbWu7ySk1XAAAAAEkGa1UmoQWiZTAhv//6nhAABJwAAAAxBnvNFESwv/wAAsoAAAAAQAZ8SdEK/AALhZRxHZdpJgAAAABABnxRqQr8ABHbWu7ySk1XBAAAAEkGbGUmoQWyZTAhv//6nhAABJwAAAAxBnzdFFSwv/wAAsoEAAAAQAZ9WdEK/AALhZRxHZdpJgQAAABABn1hqQr8ABHbWu7ySk1XAAAAAGkGbWkmoQWyZTAhv//6nhAADng8KdZ0+7FyBAAAAGUGbe0nhClJlMCHf/qmWAAHdHT8pox+tZ8AAAAAsQZufSeEOiZTAhv/+p4QAA/ZxyMg5Xbcyyue8fgUqWz8CmdgUW1B93H+k80MAAAARQZ+9RRE8L/8AAmueMDLqWTEAAAAPAZ/cdEK/AAM5IfjeoI8TAAAADwGf3mpCvwADTAsbA5VzgAAAABJBm8NJqEFomUwIb//+p4QAAScAAAAMQZ/hRREsL/8AALKAAAAAEAGeAHRCvwADTPJvS7Tb84EAAAAQAZ4CakK/AANMCxrjKQtzgAAAABJBmgdJqEFsmUwIZ//+nhAABH0AAAAMQZ4lRRUsL/8AALKBAAAAEAGeRHRCvwADTPJvS7Tb84EAAAAQAZ5GakK/AANMCxrjKQtzgQAAABtBmklLqEIQWyRGCCgH8gH9h4BRMK/+OEAAEXAAAAAkAZ5oakK/Aq9j7UHE3arDSSblqoYHLLW7zSogmixidA7Izgb4AAAMEG1vb3YAAABsbXZoZAAAAAAAAAAAAAAAAAAAA+gAAB+QAAEAAAEAAAAAAAAAAAAAAAABAAAAAAAAAAAAAAAAAAAAAQAAAAAAAAAAAAAAAAAAQAAAAAAAAAAAAAAAAAAAAAAAAAAAAAAAAAAAAAAAAAIAAAs6dHJhawAAAFx0a2hkAAAAAwAAAAAAAAAAAAAAAQAAAAAAAB+QAAAAAAAAAAAAAAAAAAAAAAABAAAAAAAAAAAAAAAAAAAAAQAAAAAAAAAAAAAAAAAAQAAAAAEQAAABEAAAAAAAJGVkdHMAAAAcZWxzdAAAAAAAAAABAAAfkAAABAAAAQAAAAAKsm1kaWEAAAAgbWRoZAAAAAAAAAAAAAAAAAAAMgAAAZQAVcQAAAAAAC1oZGxyAAAAAAAAAAB2aWRlAAAAAAAAAAAAAAAAVmlkZW9IYW5kbGVyAAAACl1taW5mAAAAFHZtaGQAAAABAAAAAAAAAAAAAAAkZGluZgAAABxkcmVmAAAAAAAAAAEAAAAMdXJsIAAAAAEAAAodc3RibAAAAJVzdHNkAAAAAAAAAAEAAACFYXZjMQAAAAAAAAABAAAAAAAAAAAAAAAAAAAAAAEQARAASAAAAEgAAAAAAAAAAQAAAAAAAAAAAAAAAAAAAAAAAAAAAAAAAAAAAAAAAAAAABj//wAAAC9hdmNDAfQADf/hABdn9AANkZsoIhHQgAAAAwCAAAAZB4oUywEABWjr48RIAAAAGHN0dHMAAAAAAAAAAQAAAMoAAAIAAAAAFHN0c3MAAAAAAAAAAQAAAAEAAAXoY3R0cwAAAAAAAAC7AAAAAQAABAAAAAABAAAIAAAAAAIAAAIAAAAAAQAACgAAAAABAAAEAAAAAAEAAAAAAAAAAQAAAgAAAAABAAAEAAAAAAEAAAgAAAAAAgAAAgAAAAABAAAEAAAAAAEAAAgAAAAAAgAAAgAAAAABAAAIAAAAAAIAAAIAAAAAAQAABAAAAAABAAAIAAAAAAIAAAIAAAAAAQAABgAAAAABAAACAAAAAAEAAAoAAAAAAQAABAAAAAABAAAAAAAAAAEAAAIAAAAAAQAACgAAAAABAAAEAAAAAAEAAAAAAAAAAQAAAgAAAAABAAAKAAAAAAEAAAQAAAAAAQAAAAAAAAABAAACAAAAAAEAAAoAAAAAAQAABAAAAAABAAAAAAAAAAEAAAIAAAAAAQAACgAAAAABAAAEAAAAAAEAAAAAAAAAAQAAAgAAAAABAAAKAAAAAAEAAAQAAAAAAQAAAAAAAAABAAACAAAAAAEAAAoAAAAAAQAABAAAAAABAAAAAAAAAAEAAAIAAAAAAQAACgAAAAABAAAEAAAAAAEAAAAAAAAAAQAAAgAAAAABAAAEAAAAAAEAAAoAAAAAAQAABAAAAAABAAAAAAAAAAEAAAIAAAAAAQAABAAAAAABAAAKAAAAAAEAAAQAAAAAAQAAAAAAAAABAAACAAAAAAEAAAoAAAAAAQAABAAAAAABAAAAAAAAAAEAAAIAAAAAAQAACgAAAAABAAAEAAAAAAEAAAAAAAAAAQAAAgAAAAABAAAKAAAAAAEAAAQAAAAAAQAAAAAAAAABAAACAAAAAAEAAAYAAAAAAQAAAgAAAAABAAAKAAAAAAEAAAQAAAAAAQAAAAAAAAABAAACAAAAAAEAAAoAAAAAAQAABAAAAAABAAAAAAAAAAEAAAIAAAAAAQAACgAAAAABAAAEAAAAAAEAAAAAAAAAAQAAAgAAAAABAAAKAAAAAAEAAAQAAAAAAQAAAAAAAAABAAACAAAAAAEAAAoAAAAAAQAABAAAAAABAAAAAAAAAAEAAAIAAAAAAQAACAAAAAACAAACAAAAAAEAAAoAAAAAAQAABAAAAAABAAAAAAAAAAEAAAIAAAAAAQAACgAAAAABAAAEAAAAAAEAAAAAAAAAAQAAAgAAAAABAAAKAAAAAAEAAAQAAAAAAQAAAAAAAAABAAACAAAAAAEAAAoAAAAAAQAABAAAAAABAAAAAAAAAAEAAAIAAAAAAQAACAAAAAACAAACAAAAAAIAAAQAAAAAAQAABgAAAAABAAACAAAAAAEAAAQAAAAAAQAACgAAAAABAAAEAAAAAAEAAAAAAAAAAQAAAgAAAAABAAAKAAAAAAEAAAQAAAAAAQAAAAAAAAABAAACAAAAAAEAAAYAAAAAAQAAAgAAAAABAAAKAAAAAAEAAAQAAAAAAQAAAAAAAAABAAACAAAAAAEAAAgAAAAAAgAAAgAAAAABAAAEAAAAAAEAAAoAAAAAAQAABAAAAAABAAAAAAAAAAEAAAIAAAAAAQAACgAAAAABAAAEAAAAAAEAAAAAAAAAAQAAAgAAAAACAAAEAAAAAAEAAAoAAAAAAQAABAAAAAABAAAAAAAAAAEAAAIAAAAAAQAACAAAAAACAAACAAAAAAEAAAQAAAAAAQAACgAAAAABAAAEAAAAAAEAAAAAAAAAAQAAAgAAAAAEAAAEAAAAAAEAAAYAAAAAAQAAAgAAAAABAAAKAAAAAAEAAAQAAAAAAQAAAAAAAAABAAACAAAAAAEAAAoAAAAAAQAABAAAAAABAAAAAAAAAAEAAAIAAAAAAQAACgAAAAABAAAEAAAAAAEAAAAAAAAAAQAAAgAAAAACAAAEAAAAAAEAAAoAAAAAAQAABAAAAAABAAAAAAAAAAEAAAIAAAAAAQAACgAAAAABAAAEAAAAAAEAAAAAAAAAAQAAAgAAAAABAAAKAAAAAAEAAAQAAAAAAQAAAAAAAAABAAACAAAAAAEAAAYAAAAAAQAAAgAAAAAcc3RzYwAAAAAAAAABAAAAAQAAAMoAAAABAAADPHN0c3oAAAAAAAAAAAAAAMoAAAVRAAAAGwAAABQAAAAUAAAAIQAAABkAAAAUAAAAEwAAAB0AAAAeAAAAFgAAABIAAAAdAAAAGwAAABUAAAASAAAAHAAAABUAAAASAAAAHgAAAB0AAAAVAAAAEgAAACEAAAAUAAAAHwAAABQAAAATAAAAEwAAABcAAAAQAAAAFAAAABQAAAAgAAAAFAAAABMAAAATAAAAIAAAABQAAAATAAAAEwAAABcAAAAfAAAAEwAAABMAAAAXAAAAEAAAABQAAAATAAAAFwAAABAAAAAUAAAAEwAAACIAAAAUAAAAEwAAABQAAAAeAAAAFQAAABAAAAAUAAAAEwAAAB4AAAAaAAAAGAAAABQAAAAUAAAAHQAAABQAAAAUAAAAEwAAAB0AAAAUAAAAEwAAABQAAAAgAAAAFAAAABMAAAAUAAAAIgAAABQAAAAWAAAAFQAAABQAAAAUAAAAFwAAABQAAAAUAAAAFAAAABcAAAAQAAAAEwAAABMAAAAXAAAAEAAAABMAAAATAAAAFwAAABAAAAATAAAAEwAAACAAAAATAAAAEQAAAB8AAAAUAAAAEwAAABMAAAAdAAAAFAAAABQAAAATAAAAFgAAABAAAAATAAAAEwAAABYAAAAQAAAAEwAAABMAAAAdAAAAFQAAABIAAAAdAAAAHQAAACEAAAAUAAAAHQAAACEAAAAUAAAAFAAAABMAAAAdAAAAFAAAABMAAAAUAAAAIAAAABQAAAAVAAAAEAAAABQAAAAUAAAAHgAAABYAAAASAAAAHgAAACAAAAAUAAAAEwAAABQAAAAWAAAAEAAAABQAAAAUAAAAHgAAAB0AAAAeAAAAFAAAABMAAAAUAAAAHQAAABYAAAASAAAAHQAAABUAAAAQAAAAFAAAABMAAAAdAAAAHQAAAB0AAAAdAAAAJAAAABQAAAAWAAAAEAAAABQAAAAUAAAAFgAAABAAAAAUAAAAFAAAABYAAAAQAAAAFAAAABQAAAAeAAAAHQAAADAAAAAVAAAAEwAAABMAAAAWAAAAEAAAABQAAAAUAAAAFgAAABAAAAAUAAAAFAAAAB8AAAAoAAAAFHN0Y28AAAAAAAAAAQAAADAAAABidWR0YQAAAFptZXRhAAAAAAAAACFoZGxyAAAAAAAAAABtZGlyYXBwbAAAAAAAAAAAAAAAAC1pbHN0AAAAJal0b28AAAAdZGF0YQAAAAEAAAAATGF2ZjU4LjI5LjEwMA==\" type=\"video/mp4\" />\n",
       "             </video>"
      ],
      "text/plain": [
       "<IPython.core.display.HTML object>"
      ]
     },
     "execution_count": 14,
     "metadata": {},
     "output_type": "execute_result"
    }
   ],
   "source": [
    "env = Environment(grid_size=size, max_time=T, temperature=0.3)\n",
    "agent = DQN_CNN(size, lr=.1, epsilon = 0.1, memory_size=2000, batch_size = 32)\n",
    "train(agent,env,epochs_train,prefix='cnn_train')\n",
    "HTML(display_videos('cnn_train10.mp4'))"
   ]
  },
  {
   "cell_type": "markdown",
   "metadata": {},
   "source": [
    "***\n",
    "***\n",
    "__Question 9__ Test both algorithms and compare their performances. Which issue(s) do you observe? Observe also different behaviors by changing the temperature."
   ]
  },
  {
   "cell_type": "code",
   "execution_count": 16,
   "metadata": {},
   "outputs": [
    {
     "name": "stdout",
     "output_type": "stream",
     "text": [
      "Test of the CNN\n",
      "Win/lose count 5.5/0. Average score (5.5)\n",
      "Win/lose count 5.5/3.0. Average score (4.0)\n",
      "Win/lose count 5.0/3.0. Average score (3.3333333333333335)\n",
      "Win/lose count 2.0/1.0. Average score (2.75)\n",
      "Win/lose count 5.5/3.0. Average score (2.7)\n",
      "Win/lose count 2.0/1.0. Average score (2.4166666666666665)\n",
      "Win/lose count 4.0/2.0. Average score (2.357142857142857)\n",
      "Win/lose count 5.0/1.0. Average score (2.5625)\n",
      "Win/lose count 1.0/1.0. Average score (2.2777777777777777)\n",
      "Win/lose count 6.0/4.0. Average score (2.25)\n",
      "Win/lose count 3.5/3.0. Average score (2.090909090909091)\n",
      "Final score: 2.090909090909091\n",
      "Test of the FC\n",
      "Win/lose count 4.0/3.0. Average score (1.0)\n",
      "Win/lose count 11.5/8.0. Average score (2.25)\n",
      "Win/lose count 3.0/1.0. Average score (2.1666666666666665)\n",
      "Win/lose count 16.5/10.0. Average score (3.25)\n",
      "Win/lose count 10.0/4.0. Average score (3.8)\n",
      "Win/lose count 3.5/2.0. Average score (3.4166666666666665)\n",
      "Win/lose count 8.5/5.0. Average score (3.4285714285714284)\n",
      "Win/lose count 3.5/2.0. Average score (3.1875)\n",
      "Win/lose count 9.5/0. Average score (3.888888888888889)\n",
      "Win/lose count 16.0/3.0. Average score (4.8)\n",
      "Win/lose count 8.5/2.0. Average score (4.954545454545454)\n",
      "Final score: 4.954545454545454\n"
     ]
    }
   ],
   "source": [
    "env = Environment(grid_size=size, max_time=T,temperature=0.3)\n",
    "agent_cnn = DQN_CNN(size, lr=.1, epsilon = 0.1, memory_size=2000, batch_size = 32)\n",
    "agent_cnn.load(name_weights='cnn_trainmodel.h5',name_model='cnn_trainmodel.json')\n",
    "\n",
    "agent_fc = DQN_FC(size, lr=.1, epsilon = 0.1, memory_size=2000, batch_size = 32)\n",
    "agent_cnn.load(name_weights='fc_trainmodel.h5',name_model='fc_trainmodel.json')\n",
    "print('Test of the CNN')\n",
    "test(agent_cnn,env,epochs_test,prefix='cnn_test')\n",
    "print('Test of the FC')\n",
    "test(agent_fc,env,epochs_test,prefix='fc_test')"
   ]
  },
  {
   "cell_type": "code",
   "execution_count": 17,
   "metadata": {
    "scrolled": true
   },
   "outputs": [
    {
     "data": {
      "text/html": [
       "<video alt=\"test\" controls>\n",
       "                <source src=\"data:video/mp4;base64,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\" type=\"video/mp4\" />\n",
       "             </video>"
      ],
      "text/plain": [
       "<IPython.core.display.HTML object>"
      ]
     },
     "execution_count": 17,
     "metadata": {},
     "output_type": "execute_result"
    }
   ],
   "source": [
    "HTML(display_videos('cnn_test10.mp4'))"
   ]
  },
  {
   "cell_type": "code",
   "execution_count": 18,
   "metadata": {},
   "outputs": [
    {
     "data": {
      "text/html": [
       "<video alt=\"test\" controls>\n",
       "                <source src=\"data:video/mp4;base64,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\" type=\"video/mp4\" />\n",
       "             </video>"
      ],
      "text/plain": [
       "<IPython.core.display.HTML object>"
      ]
     },
     "execution_count": 18,
     "metadata": {},
     "output_type": "execute_result"
    }
   ],
   "source": [
    "HTML(display_videos('fc_test10.mp4'))"
   ]
  },
  {
   "cell_type": "markdown",
   "metadata": {},
   "source": [
    "The cascade of fully connected layer performs better than the CNN in this case. It not only eats more cheese but also avoids the poison better. Nevertheless, their performance are quite similar in general, and are strongly correlated to the structure of the map created. \n",
    "\n",
    "In both cases (especially when you take more epochs), you can see a clear improvement of the score, which proves that the bot learns correctly. Note that if its score varies a lot, it mainly depends on the initial position of the bot. If it is close to much cheese, the score is likely to be more positive. On this note, the temperature plays an important role as it changes the structure of the map. A higher temperature involves more cheese and therefore a higher score in average, although the behaviour of the bot is not strictly more desirable. \n",
    "\n",
    "Finally, we notice that the bot easily gets stuck and does not explore the full map. We will see in the following part how to correct this default. "
   ]
  },
  {
   "cell_type": "markdown",
   "metadata": {},
   "source": [
    "***\n",
    "\n",
    "The algorithm tends to not explore the map which can be an issue. We propose two ideas in order to encourage exploration:\n",
    "1. Incorporating a decreasing $\\epsilon$-greedy exploration. You can use the method ```set_epsilon```\n",
    "2. Append via the environment a new state that describes if a cell has been visited or not\n",
    "\n",
    "***\n",
    "__Question 10__ Design a new ```train_explore``` function and environment class ```EnvironmentExploring``` to tackle the issue of exploration.\n",
    "\n"
   ]
  },
  {
   "cell_type": "code",
   "execution_count": 53,
   "metadata": {},
   "outputs": [],
   "source": [
    "def train_explore(agent,env,epoch,prefix=''):\n",
    "    \n",
    "    # Number of won games\n",
    "    score = 0\n",
    "    loss = 0\n",
    "\n",
    "    for e in range(epoch):\n",
    "        # At each epoch, we restart to a fresh game and get the initial state\n",
    "        state = env.reset()\n",
    "        # This assumes that the games will terminate\n",
    "        game_over = False\n",
    "\n",
    "        win = 0\n",
    "        lose = 0\n",
    "\n",
    "        while not game_over:\n",
    "            # The agent performs an action\n",
    "            \n",
    "            discount_epsilon = 0.9 # rate of decrease for exploration\n",
    "            agent_epsilon = agent.epsilon * discount_epsilon # modify agent epsilon\n",
    "            agent.set_epsilon(agent_epsilon) # pass modified epsilon to agent  \n",
    "            \n",
    "            action = agent.act(state) # get action \n",
    "\n",
    "            # Apply an action to the environment, get the next state, the reward\n",
    "            # and if the games end\n",
    "            prev_state = state\n",
    "            state, reward, game_over = env.act(action)\n",
    "\n",
    "            # Update the counters\n",
    "            if reward > 0:\n",
    "                win = win + reward\n",
    "            if reward < 0:\n",
    "                lose = lose - reward\n",
    "\n",
    "            # Apply the reinforcement strategy\n",
    "            loss = agent.reinforce(prev_state, state,  action, reward, game_over)\n",
    "\n",
    "        # Save as a mp4\n",
    "        if e % 10 == 0:\n",
    "            env.draw(prefix+str(e))\n",
    "\n",
    "        # Update stats\n",
    "        score += win-lose\n",
    "        \n",
    "        print(\"Epoch {:03d}/{:03d} | Loss {:.4f} | Win/lose count {}/{} ({})\"\n",
    "              .format(e, epoch, loss, win, lose, win-lose))\n",
    "        agent.save(name_weights=prefix+'model.h5',name_model=prefix+'model.json')\n",
    "    "
   ]
  },
  {
   "cell_type": "code",
   "execution_count": 59,
   "metadata": {},
   "outputs": [],
   "source": [
    "class EnvironmentExploring(object):\n",
    "    def __init__(self, grid_size=10, max_time=500, temperature=0.1):\n",
    "        grid_size = grid_size+4\n",
    "        self.grid_size = grid_size\n",
    "        self.max_time = max_time\n",
    "        self.temperature = temperature\n",
    "        self.malus_position = np.zeros((self.grid_size, self.grid_size)) # define malus \n",
    "\n",
    "        #board on which one plays\n",
    "        self.board = np.zeros((grid_size,grid_size))\n",
    "        self.position = np.zeros((grid_size,grid_size))\n",
    "\n",
    "        # coordinate of the rat\n",
    "        self.x = 0\n",
    "        self.y = 1\n",
    "\n",
    "        # self time\n",
    "        self.t = 0\n",
    "\n",
    "        self.scale = 16\n",
    "\n",
    "        self.to_draw = np.zeros((max_time+2, grid_size*self.scale, grid_size*self.scale, 3))\n",
    "\n",
    "\n",
    "    def draw(self,e):\n",
    "        skvideo.io.vwrite(str(e) + '.mp4', self.to_draw)\n",
    "\n",
    "    def get_frame(self,t):\n",
    "        b = np.zeros((self.grid_size,self.grid_size,3))+128\n",
    "        b[self.board>0,0] = 256\n",
    "        b[self.board < 0, 2] = 256\n",
    "        b[self.x,self.y,:]=256\n",
    "        b[-2:,:,:]=0\n",
    "        b[:,-2:,:]=0\n",
    "        b[:2,:,:]=0\n",
    "        b[:,:2,:]=0\n",
    "        \n",
    "        b =  cv2.resize(b, None, fx=self.scale, fy=self.scale, interpolation=cv2.INTER_NEAREST)\n",
    "\n",
    "        self.to_draw[t,:,:,:]=b\n",
    "\n",
    "\n",
    "    def act(self, action):\n",
    "        \"\"\"This function returns the new state, reward and decides if the\n",
    "        game ends.\"\"\"\n",
    "\n",
    "        self.get_frame(int(self.t))\n",
    "\n",
    "        # self.position = np.zeros((self.grid_size, self.grid_size))\n",
    "\n",
    "        self.position[0:2,:]= -1\n",
    "        self.position[:,0:2] = -1\n",
    "        self.position[-2:, :] = -1\n",
    "        self.position[-2:, :] = -1\n",
    "\n",
    "        self.position[self.x, self.y] = 1\n",
    "        if action == 0:\n",
    "            if self.x == self.grid_size-3:\n",
    "                self.x = self.x-1\n",
    "            else:\n",
    "                self.x = self.x + 1\n",
    "        elif action == 1:\n",
    "            if self.x == 2:\n",
    "                self.x = self.x+1\n",
    "            else:\n",
    "                self.x = self.x-1\n",
    "        elif action == 2:\n",
    "            if self.y == self.grid_size - 3:\n",
    "                self.y = self.y - 1\n",
    "            else:\n",
    "                self.y = self.y + 1\n",
    "        elif action == 3:\n",
    "            if self.y == 2:\n",
    "                self.y = self.y + 1\n",
    "            else:\n",
    "                self.y = self.y - 1\n",
    "        else:\n",
    "            RuntimeError('Error: action not recognized')\n",
    "\n",
    "        self.t = self.t + 1\n",
    "        \n",
    "        # Depreciate malus and discount\n",
    "        self.malus_discount = 0.9\n",
    "        self.malus_position *= self.malus_discount # depreciate malus\n",
    "        self.malus_position[self.malus_position < 0.35] = 0 # no malus if state was not recently visited\n",
    "        \n",
    "        # Incorporate malus to recently visited states \n",
    "        reward = 0\n",
    "        if train:\n",
    "            reward = -self.malus_position[self.x, self.y]\n",
    "        self.malus_position[self.x, self.y] = 0.8 # set malus of state just visited to -0.5 (for next time)\n",
    "        \n",
    "        reward = reward + self.board[self.x, self.y]\n",
    "        \n",
    "        self.board[self.x, self.y] = 0 # reset this state value to 0 as you ate what could be on this cell \n",
    "        game_over = self.t > self.max_time\n",
    "        \n",
    "        # 3 \"feature\" states instead of 2\n",
    "        state = np.concatenate((self.malus_position.reshape(self.grid_size, self.grid_size,1),\n",
    "                                    self.board.reshape(self.grid_size, self.grid_size,1),\n",
    "                            self.position.reshape(self.grid_size, self.grid_size,1)),axis=2)\n",
    "\n",
    "        state = state[self.x-2:self.x+3,self.y-2:self.y+3,:]\n",
    "\n",
    "        return state, reward, game_over\n",
    "\n",
    "    \n",
    "    def reset(self):\n",
    "        \"\"\"This function resets the game and returns the initial state\"\"\"\n",
    "\n",
    "        self.x = np.random.randint(3, self.grid_size-3, size=1)[0]\n",
    "        self.y = np.random.randint(3, self.grid_size-3, size=1)[0]\n",
    "\n",
    "        bonus = 0.5*np.random.binomial(1,self.temperature,size=self.grid_size**2)\n",
    "        bonus = bonus.reshape(self.grid_size,self.grid_size)\n",
    "\n",
    "        malus = -1.0*np.random.binomial(1,self.temperature,size=self.grid_size**2)\n",
    "        malus = malus.reshape(self.grid_size, self.grid_size)\n",
    "\n",
    "        self.to_draw = np.zeros((self.max_time+2, self.grid_size*self.scale, self.grid_size*self.scale, 3))\n",
    "\n",
    "        malus[bonus>0]=0\n",
    "\n",
    "        self.board = bonus + malus\n",
    "        \n",
    "        self.position = np.zeros((self.grid_size, self.grid_size))\n",
    "        self.position[0:2,:]= -1\n",
    "        self.position[:,0:2] = -1\n",
    "        self.position[-2:, :] = -1\n",
    "        self.position[-2:, :] = -1\n",
    "        self.board[self.x,self.y] = 0\n",
    "        self.t = 0\n",
    "        \n",
    "        self.malus_position = np.zeros([self.grid_size, self.grid_size])\n",
    "\n",
    "        state = np.concatenate((self.malus_position.reshape(self.grid_size, self.grid_size,1),\n",
    "                                    self.board.reshape(self.grid_size, self.grid_size,1),\n",
    "                            self.position.reshape(self.grid_size, self.grid_size,1)),axis=2)\n",
    "\n",
    "        state = state[self.x - 2:self.x + 3, self.y - 2:self.y + 3, :]\n",
    "        return state\n"
   ]
  },
  {
   "cell_type": "code",
   "execution_count": 35,
   "metadata": {
    "scrolled": true
   },
   "outputs": [
    {
     "name": "stdout",
     "output_type": "stream",
     "text": [
      "Epoch 000/051 | Loss 0.0609 | Win/lose count 9.5/69.0395712000001 (-59.5395712000001)\n",
      "Epoch 001/051 | Loss 0.0654 | Win/lose count 6.5/63.1425576000001 (-56.6425576000001)\n",
      "Epoch 002/051 | Loss 0.0348 | Win/lose count 6.5/37.60886960000001 (-31.108869600000013)\n",
      "Epoch 003/051 | Loss 0.0412 | Win/lose count 14.0/44.31150960000003 (-30.31150960000003)\n",
      "Epoch 004/051 | Loss 0.0300 | Win/lose count 7.5/23.93862959999999 (-16.43862959999999)\n",
      "Epoch 005/051 | Loss 0.0351 | Win/lose count 6.0/20.847999999999995 (-14.847999999999995)\n",
      "Epoch 006/051 | Loss 0.0309 | Win/lose count 9.0/35.0951096 (-26.0951096)\n",
      "Epoch 007/051 | Loss 0.0321 | Win/lose count 21.0/26.536869599999992 (-5.536869599999992)\n",
      "Epoch 008/051 | Loss 0.0351 | Win/lose count 18.0/28.132465599999993 (-10.132465599999993)\n",
      "Epoch 009/051 | Loss 0.0350 | Win/lose count 18.5/29.61341119999999 (-11.113411199999991)\n",
      "Epoch 010/051 | Loss 0.0225 | Win/lose count 11.5/18.7113168 (-7.211316799999999)\n",
      "Epoch 011/051 | Loss 0.0268 | Win/lose count 22.0/24.675858399999996 (-2.6758583999999956)\n",
      "Epoch 012/051 | Loss 0.0345 | Win/lose count 12.0/36.201283999999994 (-24.201283999999994)\n",
      "Epoch 013/051 | Loss 0.0275 | Win/lose count 18.5/21.877956799999996 (-3.377956799999996)\n",
      "Epoch 014/051 | Loss 0.0336 | Win/lose count 18.0/23.933011199999992 (-5.933011199999992)\n",
      "Epoch 015/051 | Loss 0.0293 | Win/lose count 14.0/10.9172184 (3.0827816000000006)\n",
      "Epoch 016/051 | Loss 0.0569 | Win/lose count 18.5/12.2569456 (6.2430544)\n",
      "Epoch 017/051 | Loss 0.0177 | Win/lose count 17.5/23.581218399999994 (-6.081218399999994)\n",
      "Epoch 018/051 | Loss 0.0407 | Win/lose count 9.5/42.33172080000003 (-32.83172080000003)\n",
      "Epoch 019/051 | Loss 0.0328 | Win/lose count 12.5/51.09672400000007 (-38.59672400000007)\n",
      "Epoch 020/051 | Loss 0.0316 | Win/lose count 13.5/17.090098399999995 (-3.590098399999995)\n",
      "Epoch 021/051 | Loss 0.0234 | Win/lose count 16.0/38.045349600000016 (-22.045349600000016)\n",
      "Epoch 022/051 | Loss 0.0321 | Win/lose count 23.5/18.529138399999997 (4.970861600000003)\n",
      "Epoch 023/051 | Loss 0.0157 | Win/lose count 13.0/13.479792799999998 (-0.47979279999999846)\n",
      "Epoch 024/051 | Loss 0.0313 | Win/lose count 23.0/17.7641352 (5.235864800000002)\n",
      "Epoch 025/051 | Loss 0.0348 | Win/lose count 6.5/18.317618399999997 (-11.817618399999997)\n",
      "Epoch 026/051 | Loss 0.0326 | Win/lose count 20.5/29.06798959999999 (-8.56798959999999)\n",
      "Epoch 027/051 | Loss 0.0460 | Win/lose count 17.0/42.93326560000004 (-25.93326560000004)\n",
      "Epoch 028/051 | Loss 0.0383 | Win/lose count 30.0/13.602912799999997 (16.3970872)\n",
      "Epoch 029/051 | Loss 0.0346 | Win/lose count 25.0/26.956196799999994 (-1.9561967999999936)\n",
      "Epoch 030/051 | Loss 0.0251 | Win/lose count 27.0/22.094978399999995 (4.905021600000005)\n",
      "Epoch 031/051 | Loss 0.0341 | Win/lose count 16.0/21.921891199999997 (-5.9218911999999975)\n",
      "Epoch 032/051 | Loss 0.0321 | Win/lose count 19.0/30.74785839999999 (-11.747858399999991)\n",
      "Epoch 033/051 | Loss 0.0643 | Win/lose count 19.0/20.220742399999995 (-1.2207423999999953)\n",
      "Epoch 034/051 | Loss 0.0361 | Win/lose count 13.5/23.410982399999995 (-9.910982399999995)\n",
      "Epoch 035/051 | Loss 0.0483 | Win/lose count 14.5/12.629072800000001 (1.8709271999999988)\n",
      "Epoch 036/051 | Loss 0.0407 | Win/lose count 16.0/18.602498399999995 (-2.6024983999999947)\n",
      "Epoch 037/051 | Loss 0.0323 | Win/lose count 24.0/31.38453119999999 (-7.384531199999991)\n",
      "Epoch 038/051 | Loss 0.0442 | Win/lose count 22.0/18.851796799999995 (3.1482032000000046)\n",
      "Epoch 039/051 | Loss 0.0303 | Win/lose count 19.5/19.441152799999998 (0.05884720000000243)\n",
      "Epoch 040/051 | Loss 0.0514 | Win/lose count 25.5/16.3800656 (9.119934400000002)\n",
      "Epoch 041/051 | Loss 0.0419 | Win/lose count 19.5/25.60134559999999 (-6.101345599999991)\n",
      "Epoch 042/051 | Loss 0.0173 | Win/lose count 17.0/24.856469599999993 (-7.856469599999993)\n",
      "Epoch 043/051 | Loss 0.0676 | Win/lose count 17.5/34.512738399999996 (-17.012738399999996)\n",
      "Epoch 044/051 | Loss 0.0404 | Win/lose count 26.5/14.230371199999997 (12.269628800000003)\n",
      "Epoch 045/051 | Loss 0.0474 | Win/lose count 19.5/16.6611424 (2.8388576000000008)\n",
      "Epoch 046/051 | Loss 0.0550 | Win/lose count 20.0/20.183171199999997 (-0.18317119999999676)\n",
      "Epoch 047/051 | Loss 0.0529 | Win/lose count 19.0/18.373825599999996 (0.6261744000000036)\n",
      "Epoch 048/051 | Loss 0.0467 | Win/lose count 24.5/27.305552799999994 (-2.805552799999994)\n",
      "Epoch 049/051 | Loss 0.0334 | Win/lose count 24.5/30.61246559999999 (-6.1124655999999895)\n",
      "Epoch 050/051 | Loss 0.0502 | Win/lose count 15.5/26.11213119999999 (-10.61213119999999)\n"
     ]
    },
    {
     "data": {
      "text/html": [
       "<video alt=\"test\" controls>\n",
       "                <source src=\"data:video/mp4;base64,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\" type=\"video/mp4\" />\n",
       "             </video>"
      ],
      "text/plain": [
       "<IPython.core.display.HTML object>"
      ]
     },
     "execution_count": 35,
     "metadata": {},
     "output_type": "execute_result"
    }
   ],
   "source": [
    "epochs_train = 51\n",
    "env = EnvironmentExploring(grid_size=size, max_time=T, temperature=0.3)\n",
    "agent = DQN_CNN(size, lr=.1, epsilon = 0.8, memory_size=2000, batch_size = 32, n_state=3)\n",
    "train_explore(agent, env, epochs_train, prefix='cnn_train_explore')\n",
    "HTML(display_videos('cnn_train_explore50.mp4'))"
   ]
  },
  {
   "cell_type": "code",
   "execution_count": 36,
   "metadata": {},
   "outputs": [
    {
     "name": "stdout",
     "output_type": "stream",
     "text": [
      "Win/lose count 17.5/35.6867712. Average score (-18.186771200000003)\n",
      "Win/lose count 18.0/33.87150959999998. Average score (-17.029140399999992)\n",
      "Win/lose count 18.0/45.722160000000045. Average score (-20.593480266666678)\n",
      "Win/lose count 26.0/39.71409840000001. Average score (-18.873634800000012)\n",
      "Win/lose count 28.5/26.90643679999999. Average score (-14.780195200000009)\n",
      "Win/lose count 22.5/25.65531679999999. Average score (-12.842715466666673)\n",
      "Win/lose count 18.0/21.353284. Average score (-11.487082400000006)\n",
      "Win/lose count 26.0/26.065759999999994. Average score (-10.059417100000005)\n",
      "Win/lose count 24.5/28.47569839999999. Average score (-9.38344835555556)\n",
      "Win/lose count 17.0/47.83585840000006. Average score (-11.52868936000001)\n",
      "Win/lose count 22.0/30.54237119999999. Average score (-11.257205890909098)\n",
      "Final score: -11.257205890909098\n"
     ]
    },
    {
     "data": {
      "text/html": [
       "<video alt=\"test\" controls>\n",
       "                <source src=\"data:video/mp4;base64,AAAAIGZ0eXBpc29tAAACAGlzb21pc28yYXZjMW1wNDEAAAAIZnJlZQAAGmBtZGF0AAACnwYF//+b3EXpvebZSLeWLNgg2SPu73gyNjQgLSBjb3JlIDE1MiAtIEguMjY0L01QRUctNCBBVkMgY29kZWMgLSBDb3B5bGVmdCAyMDAzLTIwMTcgLSBodHRwOi8vd3d3LnZpZGVvbGFuLm9yZy94MjY0Lmh0bWwgLSBvcHRpb25zOiBjYWJhYz0xIHJlZj0zIGRlYmxvY2s9MTowOjAgYW5hbHlzZT0weDE6MHgxMTEgbWU9aGV4IHN1Ym1lPTcgcHN5PTEgcHN5X3JkPTEuMDA6MC4wMCBtaXhlZF9yZWY9MSBtZV9yYW5nZT0xNiBjaHJvbWFfbWU9MSB0cmVsbGlzPTEgOHg4ZGN0PTAgY3FtPTAgZGVhZHpvbmU9MjEsMTEgZmFzdF9wc2tpcD0xIGNocm9tYV9xcF9vZmZzZXQ9NCB0aHJlYWRzPTYgbG9va2FoZWFkX3RocmVhZHM9MSBzbGljZWRfdGhyZWFkcz0wIG5yPTAgZGVjaW1hdGU9MSBpbnRlcmxhY2VkPTAgYmx1cmF5X2NvbXBhdD0wIGNvbnN0cmFpbmVkX2ludHJhPTAgYmZyYW1lcz0zIGJfcHlyYW1pZD0yIGJfYWRhcHQ9MSBiX2JpYXM9MCBkaXJlY3Q9MSB3ZWlnaHRiPTEgb3Blbl9nb3A9MCB3ZWlnaHRwPTIga2V5aW50PTI1MCBrZXlpbnRfbWluPTI1IHNjZW5lY3V0PTQwIGludHJhX3JlZnJlc2g9MCByY19sb29rYWhlYWQ9NDAgcmM9Y3JmIG1idHJlZT0xIGNyZj0yMy4wIHFjb21wPTAuNjAgcXBtaW49MCBxcG1heD02OSBxcHN0ZXA9NCBpcF9yYXRpbz0xLjQwIGFxPTE6MS4wMACAAAADEmWIhAAz//72hvgU2FMj/k+//CP/uR+3H1n64sZCCb61XkPRgDJfGv+ZRmGl6cnPLe0fr0zQBGc+h5SySKH4FJMA3zLI5xPifLOhT95RaxVlJ2qd+hoSp5wAnVVaRMhEC7W6RVVatkp4I+TKM2KwRqaStxBE/XZ2Mg4qJNRjPbLctnmH4IbgAsEHfpWwmQBWs/kyNvjMqWskgM9Dv16eP1tF08Sc1Hjcpo/0ogJvv9QEISiPAWo+gExT4CZKn/rFYz40IJ5wSMDLL6SOdruJ68pLfns/x7EfOHT3h/Av1+H0K+/BVtUFAAijb9qqx0gMwMVjvC9xFOkx35GRrkfuQQKSZEP9RK78XDmDytCtBcnEa4AmDLGZokyzYJflw08pE+hGMZ55VnusbSZcYXSn79f8E3+5aY2d2tajBSGUFanG3sdss0jn5R+0yAyUbaILDhZXKg5lYTGSAqOEJFOH3XbQ8SlnEPtcNCtJ5UFx7gnJshoHJd6R4vFzQp1nRXje3ljubpWI52YDLJ1cUQxpQ8jcw+cz10lvckUBTt4gdb7p75heyg2LR0ltCji0DFfcgibYSNPuYJPnfc3b9RY0AoDnXxIkivwifS4UNtrPbuHwD0GuX3M8SZQVV0/t0jV4cHR2OXj6nFAw1vVdQUOfElQTYO3t+5ECKhTszHYfAb49yhyg8m6NwNqOcRzw16JcB0i2RqoqM7DiUW7zP1lEDnde/19QQ562v9k650L6FU1J/rqDd3R6la/VP088iONfKZmOh+jmZL6qSzfnFheAUXb8AwBjanSW6/ma2CRs0Z5s0Md6gjLIAKVmH5NcVWWXDrcENSGUBE+z9UPgzWNt0Grr5j+D66kGPveh1WokPumROK4C/RWKUMwc0XpZLUZQAGVjWZ3E0ILAgCAWMa5x2PaimctbdfrhMwR6I+M+/BXe91zJduA7OqrIOT/VTwfTpyh615fSYHGO7ftd6eypFxgXoIADrLP27sGKOQd6GSHd9MU9zXIlv7sqbWJf9nWuimWydl/9UkAAmMHSJyzY8AAFRQAAACFBmiFsQz/+nhAAWP3gAylzLHhHPMsqjCbzLB0OMEfWGbgAAAAXQZpCPCGTKYQz//6eEAA43r7+RIj6w90AAAAbQZpjSeEPJlMCG//+p4QACXfI4BNf4Tgt0LWgAAAAGUGahEnhDyZTAhv//qeEAAYn2D/CcFuhk8EAAAAeQZqoSeEPJlMCG//+p4QACaj5jl2bZvn2D61S0+OBAAAAFkGexkURPC//AAXSfXq4AfMRXz648BEAAAAPAZ7ldEK/AAUfMncGyXqhAAAAEAGe52pCvwAHw5w17zStF8AAAAAnQZrrSahBaJlMCGf//p4QAFa94G1cCmvqFfMsSwXzLJsHBSPPdxzcAAAAEkGfCUURLCv/ABHdoN4CkfXvoQAAABABnypqQr8AEd2eOV/biDTAAAAAG0GbLEmoQWyZTAhn//6eEACCnCOfw58QOH+FnwAAABlBm01J4QpSZTAhv/6nhAA0tIn+pHRpDWvBAAAAMkGbb0nhDomUwU0TDP/+nhAB58bcvxCOjV//xCEh4s//4fNEWf/8QY7v2yGPp5P948DBAAAAEAGfjmpCvwBnHajlf24fa8EAAAAYQZuQSeEPJlMCG//+p4QAwtIn+pSAVNJAAAAAMUGbsknhDyZTBRE8M//+nhAIpa7t+IR0av/+IQkPFn//D5oiz//iDHd+5Hx9wPLNXHAAAAAQAZ/RakK/AX92o5X9uHzSQQAAAB1Bm9RJ4Q8mUwU8M//+nhAJJ3Te4Acae5rj63GPSAAAABABn/NqQr8BiWbmuPFW0blgAAAAGEGb9UnhDyZTAhn//p4QBLfiH9shj6whbQAAABhBmhZJ4Q8mUwIZ//6eEAMP6+/kSI+sIi4AAAAYQZo3SeEPJlMCGf/+nhAB8vX38iRH1hGzAAAAG0GaWEnhDyZTAhv//qeEAFR94YCa/wnBboSh4QAAAB9BmntJ4Q8mUwIZ//6eEADXr7muPqyC/i7/8d7sohBAAAAAEkGemUURPCv/AC10o3mmKpyxzQAAAA8BnrpqQr8ALW23SjSHirUAAAAZQZq8SahBaJlMCGf//p4QAId8Q863QMkRnQAAABhBmt1J4QpSZTAhv/6nhAAh3x0x/h9W3HEAAAAYQZrgSeEOiZTAhn/+nhAAf3193ac3cXBmAAAAEkGfHkURPCv/ACoYOu7v6RX1QAAAABABnz9qQr8AKg1851oYXnpBAAAAGUGbIUmoQWiZTAhn//6eEAB8vX3dpzdxcHoAAAAYQZtCSeEKUmUwIZ/+nhAAef19/IkR9YW9AAAAGEGbY0nhDomUwIZ//p4QAE/9030VKzXyNgAAABhBm4RJ4Q8mUwIZ//6eEAAzvr7+RIj6xA8AAAAYQZulSeEPJlMCGf/+nhAAIN8Q/tkMfWKfAAAAHkGbx0nhDyZTBRE8M//+nhAAFa9032AtQPdcR9Zz1QAAABABn+ZqQr8ABHZXRVZx+C5hAAAAGEGb6EnhDyZTAhn//p4QAA2Pv7u05u4xnAAAABpBmglJ4Q8mUwIZ//6eEAAUbgxz+HPiBw/x0QAAABdBmipJ4Q8mUwIZ//6eEAAfApxz9L+6WQAAABpBmktJ4Q8mUwIZ//6eEAAw8hjn8OfEDh/iFwAAABdBmmxJ4Q8mUwIZ//6eEABLThHP0v7mfgAAABlBmo1J4Q8mUwIb//6nhAAdo4z/Vb5j8TehAAAAIUGar0nhDyZTBRE8N//+p4QAR74c+ZZYmR3EcM8vL97SwQAAABABns5qQr8AOgzwLr+3D9HBAAAAGUGa0EnhDyZTAhv//qeEAG5pE/1W+Y/EO6AAAAAbQZr0SeEPJlMCGf/+nhABsfX36oR1cnabo5GgAAAAEEGfEkURPC//AEFzzsxtv48AAAAPAZ8xdEK/AIsIA6E5Lw7AAAAAEAGfM2pCvwBa2vnOtDC8gsAAAAAcQZs2SahBaJlMFPDP/p4QAQ74h/iiXnOmxUB/MQAAABABn1VqQr8AOKC851oYXl3AAAAAGEGbV0nhClJlMCGf/p4QAK17pvoqVmvhgwAAABhBm3hJ4Q6JlMCGf/6eEABu/X38iRH1hekAAAAYQZuZSeEPJlMCGf/+nhAAR74h/bIY+sOBAAAAGEGbuknhDyZTAhv//qeEAAv/sHr2Z8EXLQAAADBBm91J4Q8mUwIZ//6eEABp8gufxCOjV//xCEh4s//4fNEWf/8QY7v4fHrx425nynAAAAASQZ/7RRE8K/8AFisg3gKR9e9XAAAAEAGeHGpCvwAWKx45X9uIIUEAAAAYQZoeSahBaJlMCGf//p4QAKNwY5+l/crdAAAAGEGaP0nhClJlMCGf/p4QAPgU45+jAdmgswAAABhBmkBJ4Q6JlMCGf/6eEAGHkMc/hzm+s5UAAAAbQZphSeEPJlMCG//+p4QAmqALNttAYDm/dOfAAAAAF0GagknhDyZTAhv//qeEAJ6PmOVw2207AAAAIEGapknhDyZTAhn//p4QES7eavMss+fbZwfbtxALZDLwAAAAFUGexEURPC//AXBOltMyy5DMLfQrlQAAABABnuN0Qr8BNvSngdMpuWWBAAAAEAGe5WpCvwHsH3y1+sUcQsEAAAAZQZrnSahBaJlMCGf//p4QES7UZ1ugXCaRcQAAABhBmwhJ4QpSZTAhv/6nhARLsxvPgtp20j4AAAAeQZsqSeEOiZTBTRMM//6eEA6W/v1LzlmXdcR9R6lYAAAAEAGfSWpCvwHRsv1R9A+AeMEAAAAcQZtMSeEPJlMFPDP//p4QBaPX39H5bmuPrSU44AAAABABn2tqQr8BJpZDD6AkHE2YAAAAGEGbbUnhDyZTAhn//p4QA5/v7+RIj6wh0wAAABhBm45J4Q8mUwIZ//6eEAJd8Q/tkMfWEW0AAAAYQZuvSeEPJlMCG//+p4QAZP2D17M+CK9bAAAAHUGb0UnhDyZTBRE8M//+nhABf/f39Cq7l07YKoY4AAAAEAGf8GpCvwBPm3Iq8AT+/4AAAAAZQZvySeEPJlMCG//+p4QAKR7qfqONCQ5SQQAAABlBmhNJ4Q8mUwIb//6nhAAaf2D/CcFuhOzAAAAAHUGaNUnhDyZTBRE8N//+p4QAEO+On2q82qIyMggkAAAAEAGeVGpCvwAN0S2nXgCgZYEAAAAZQZpWSeEPJlMCHf/+qZYAA5PtL+d0hTChEAAAABpBmnpJ4Q8mUwIb//6nhAAHPR5jzLt9g/YYwQAAABVBnphFETwv/wAEVz9mte/Ih8xFcjUAAAAQAZ63dEK/AAO1xZnlfkp6CAAAABABnrlqQr8ABfnajlf24kRBAAAAHUGavEmoQWiZTBTw3/6nhAAHc9g/m0uoHhxZCnaaAAAAEAGe22pCvwAGIZua48Vbf2EAAAAbQZreSeEKUmUwUsO//qmWAAJz8j6H9Nl9OqlBAAAADwGe/WpCvwAD4g/qkUCW6QAAABtBmuJJ4Q6JlMCG//6nhAAElHzVNZtzXjp9uPgAAAAQQZ8ARRU8L/8AAsVAitKRpQAAAA8Bnz90Qr8AAn0YQGSXu4AAAAAQAZ8hakK/AAPLzhr3mlatwQAAABxBmyRJqEFomUwU8N/+p4QABzweHFjVD/fHTx5MAAAAEAGfQ2pCvwAF+dqW4bNrMIEAAAAlQZtISeEKUmUwIb/+p4QADE+sNzLK8YZ+BTLZ2fAoUltfnm4/yQAAABVBn2ZFNEwv/wAHQTp3m9+uRIWWt6EAAAAPAZ+FdEK/AAZKQ/G9QRx9AAAAEAGfh2pCvwAJ9Y8cr9YpeMAAAAAcQZuKSahBaJlMFPDf/qeEABNR8zU2bcZvjT6JpAAAABABn6lqQr8AD4s8IeNDWV2BAAAAHEGbrEnhClJlMFLDP/6eEAB2fXI3Y4aW+vvt0+AAAAAQAZ/LakK/ABknaluGzapGgAAAABlBm81J4Q6JlMCG//6nhAAvtIn+q3zH4kXBAAAAGUGb7knhDyZTAhv//qeEAElQBZttn2fNTcEAAAAeQZoQSeEPJlMFETw3//6nhABNR9z0k7jZDB/q1c9hAAAAEAGeL2pCvwA+LMHkuZ8lEYAAAAAZQZoxSeEPJlMCHf/+qZYAO6mQk3Dgo+aYEAAAAB9BmlVJ4Q8mUwId//6plgBgvYb5llnz7ZdL1oddtflhAAAAFUGec0URPC//AKymz8zbib/3z1yWZAAAABABnpJ0Qr8A58YjgOmU3NmAAAAAEAGelGpCvwDtGoc3w/iR/HEAAAAcQZqXSahBaJlMFPDv/qmWAJgUdECzQHd9GPW+PgAAABABnrZqQr8A8rPCHjQ1jKGBAAAAHEGau0nhClJlMCHf/qmWATOlmLTM/Z70tP+EzKkAAAAQQZ7ZRTRML/8BHqAzXWDFwAAAABABnvh0Qr8BiZFlXgRXbNSBAAAADwGe+mpCvwGJsWBdf37BwAAAABNBmv9JqEFomUwId//+qZYAAJWBAAAADEGfHUURLC//AACygQAAABABnzx0Qr8BhM5O/AB9ulNAAAAAEAGfPmpCvwGEzk72ePt0poAAAAATQZsjSahBbJlMCHf//qmWAACVgQAAAAxBn0FFFSwv/wAAsoAAAAAQAZ9gdEK/AYTOTvwAfbpTQQAAABABn2JqQr8BhM5O9nj7dKaAAAAAE0GbZ0moQWyZTAh3//6plgAAlYEAAAAMQZ+FRRUsL/8AALKBAAAAEAGfpHRCvwGEzk78AH26U0EAAAAQAZ+makK/AYTOTvZ4+3SmgQAAABJBm6tJqEFsmUwIb//+p4QAAScAAAAMQZ/JRRUsL/8AALKAAAAAEAGf6HRCvwGEzk78AH26U0EAAAAQAZ/qakK/AYTOTvZ4+3SmgAAAABJBm+9JqEFsmUwIZ//+nhAABHwAAAAMQZ4NRRUsL/8AALKBAAAAEAGeLHRCvwGEzk78AH26U0EAAAAQAZ4uakK/AYTOTvZ4+3SmgQAAABtBmjBJqEFsmUwIZ//+nhAJgvcaF4ABl/3x8d0AAAAZQZpRSeEKUmUwIZ/+nhAtJKxwUllso+lpiwAAABlBmnJJ4Q6JlMCG//6nhAz3E/lME3oCMIuBAAAAHEGalEnhDyZTBRE8M//+nhApO1H1p9E6RsU6kXcAAAAQAZ6zakK/ApBPnOsz8E69gAAAABhBmrVJ4Q8mUwIZ//6eEAiniH9h4j6uU7sAAAAdQZrXSeEPJlMFETwz//6eEASX4h/iiXnOmxUBnTAAAAAPAZ72akK/APKD+qRQJVGzAAAAGEGa+EnhDyZTAhn//p4QAunumxlybKtsvQAAABhBmxlJ4Q8mUwIZ//6eEALX7psZcmyrbNwAAAAZQZs6SeEPJlMCG//+p4QBFEAWbbZ9nzRSQQAAABlBm1tJ4Q8mUwIb//6nhAHsMMan3o59RJOAAAAAH0GbfUnhDyZTBRE8N//+p4QHrGZqbNq97yOA5vooRsEAAAAQAZ+cakK/AkjMHkwJu5z5gQAAABJBm59J4Q8mUwU8N//+p4QAAScAAAAOAZ++akK/AklfNDrOsUEAAAAaQZujSeEPJlMCGf/+nhAbqlKpwX3fXn/0D/EAAAAQQZ/BRRE8L/8BspAcxUnkzAAAAA4Bn+B0Qr8CSF6AySvBDwAAABABn+JqQr8CSA/jV3/P8fuAAAAAGUGb5EmoQWiZTAhv//6nhAEd+OmP8Pq22V8AAAAZQZoGSeEKUmUwURLDf/6nhAEMHzNTZttxlQAAAA8BniVqQr8A4lfNDrRU64EAAAAbQZooSeEOiZTBRMM//p4QBDfiH+McIo+tL0rBAAAAEAGeR2pCvwDnq4NceKto8GAAAAAYQZpJSeEPJlMCGf/+nhAC5V7jQum+62y8AAAAGUGaaknhDyZTAhv//qeEAMK6tIIRP8ts+4EAAAAZQZqLSeEPJlMCG//+p4QAx7q0ghE/y2z1gAAAACZBmq5J4Q8mUwIb//6nhAKS4s/8QgB//CVLHn//hKNPbJ6j985t3AAAABNBnsxFETwr/wGTdqbezu99GnNBAAAAEAGe7WpCvwGTdqOV/bh8zcEAAAAbQZrwSahBaJlMFPDf/qeEApPYP8RWhFP8h1vRAAAAEAGfD2pCvwGTI7c60MLw2UAAAAAcQZsSSeEKUmUwUsN//qeEAkEVsxP9UH2D/NggYAAAABABnzFqQr8Bf3bhNxn16ah5AAAAGEGbNknhDomUwIZ//p4QCKeIf3poFwhEwAAAABVBn1RFFTwv/wHqffpnFbM9wXjbtBAAAAAPAZ9zdEK/ApHNUDpuX5EPAAAADwGfdWpCvwKQVoYHTUjlnwAAABlBm3dJqEFomUwIZ//+nhAEt+If2yGPrCFtAAAAGUGbmEnhClJlMCG//qeEAMj7B/hOC3QkccEAAAAdQZu6SeEOiZTBTRMM//6eEAHy9ff02ULl1s1bHHAAAAAPAZ/ZakK/AGmJaVIoEqnzAAAAGEGb20nhDyZTAhn//p4QAT/3TYy5NlW5lAAAAB1Bm/1J4Q8mUwURPDP//p4QATb5zfiiXnOmxUB70QAAABABnhxqQr8AP4C851oYXlPBAAAAGEGaHknhDyZTAhn//p4QAMT6+7tObuLefAAAABhBmj9J4Q8mUwIZ//6eEAC/+vu7Tm7i3pwAAAAYQZpASeEPJlMCGf/+nhAAuvumxlybKt69AAAAGEGaYUnhDyZTAhv//qeEAC6+6nH+H1bcCwAAAB1BmoNJ4Q8mUwURPDf//qeEAENHzVNZtzXjp9q/CQAAABABnqJqQr8AN07cJuM+vTtMAAAAHEGapUnhDyZTBTwz//6eEAGRX3XEc/pHX39L8yEAAAAQAZ7EakK/AFQsiE3GfXpxuQAAABpBmslL4QhDyRGCCgH8gH9h4AhX//44QAARcQAAACpBnudFETwv/wIB3OpL2zMKuYDoGrWoXAlcPcf4sWRFCSZsTG4yNvaHCM8AAAAQAZ8GdEK/AHxjMiOxZijc+AAAACUBnwhqQr8Cr2PtQcTdqsNJJuWqhgcuiQoaYRv9U2sdZUxsE7fgAAALGG1vb3YAAABsbXZoZAAAAAAAAAAAAAAAAAAAA+gAAB+QAAEAAAEAAAAAAAAAAAAAAAABAAAAAAAAAAAAAAAAAAAAAQAAAAAAAAAAAAAAAAAAQAAAAAAAAAAAAAAAAAAAAAAAAAAAAAAAAAAAAAAAAAIAAApCdHJhawAAAFx0a2hkAAAAAwAAAAAAAAAAAAAAAQAAAAAAAB+QAAAAAAAAAAAAAAAAAAAAAAABAAAAAAAAAAAAAAAAAAAAAQAAAAAAAAAAAAAAAAAAQAAAAAEQAAABEAAAAAAAJGVkdHMAAAAcZWxzdAAAAAAAAAABAAAfkAAABAAAAQAAAAAJum1kaWEAAAAgbWRoZAAAAAAAAAAAAAAAAAAAMgAAAZQAVcQAAAAAAC1oZGxyAAAAAAAAAAB2aWRlAAAAAAAAAAAAAAAAVmlkZW9IYW5kbGVyAAAACWVtaW5mAAAAFHZtaGQAAAABAAAAAAAAAAAAAAAkZGluZgAAABxkcmVmAAAAAAAAAAEAAAAMdXJsIAAAAAEAAAklc3RibAAAAJVzdHNkAAAAAAAAAAEAAACFYXZjMQAAAAAAAAABAAAAAAAAAAAAAAAAAAAAAAEQARAASAAAAEgAAAAAAAAAAQAAAAAAAAAAAAAAAAAAAAAAAAAAAAAAAAAAAAAAAAAAABj//wAAAC9hdmNDAfQADf/hABdn9AANkZsoIhHQgAAAAwCAAAAZB4oUywEABWjr48RIAAAAGHN0dHMAAAAAAAAAAQAAAMoAAAIAAAAAFHN0c3MAAAAAAAAAAQAAAAEAAATwY3R0cwAAAAAAAACcAAAABQAABAAAAAABAAAKAAAAAAEAAAQAAAAAAQAAAAAAAAABAAACAAAAAAEAAAgAAAAAAgAAAgAAAAACAAAEAAAAAAEAAAYAAAAAAQAAAgAAAAABAAAEAAAAAAEAAAYAAAAAAQAAAgAAAAABAAAGAAAAAAEAAAIAAAAABAAABAAAAAABAAAIAAAAAAIAAAIAAAAAAgAABAAAAAABAAAIAAAAAAIAAAIAAAAABQAABAAAAAABAAAGAAAAAAEAAAIAAAAABgAABAAAAAABAAAGAAAAAAEAAAIAAAAAAQAABAAAAAABAAAKAAAAAAEAAAQAAAAAAQAAAAAAAAABAAACAAAAAAEAAAYAAAAAAQAAAgAAAAAEAAAEAAAAAAEAAAgAAAAAAgAAAgAAAAAFAAAEAAAAAAEAAAoAAAAAAQAABAAAAAABAAAAAAAAAAEAAAIAAAAAAgAABAAAAAABAAAGAAAAAAEAAAIAAAAAAQAABgAAAAABAAACAAAAAAMAAAQAAAAAAQAABgAAAAABAAACAAAAAAIAAAQAAAAAAQAABgAAAAABAAACAAAAAAEAAAQAAAAAAQAACgAAAAABAAAEAAAAAAEAAAAAAAAAAQAAAgAAAAABAAAGAAAAAAEAAAIAAAAAAQAABgAAAAABAAACAAAAAAEAAAoAAAAAAQAABAAAAAABAAAAAAAAAAEAAAIAAAAAAQAABgAAAAABAAACAAAAAAEAAAoAAAAAAQAABAAAAAABAAAAAAAAAAEAAAIAAAAAAQAABgAAAAABAAACAAAAAAEAAAYAAAAAAQAAAgAAAAACAAAEAAAAAAEAAAYAAAAAAQAAAgAAAAABAAAEAAAAAAEAAAoAAAAAAQAABAAAAAABAAAAAAAAAAEAAAIAAAAAAQAABgAAAAABAAACAAAAAAEAAAoAAAAAAQAABAAAAAABAAAAAAAAAAEAAAIAAAAAAQAACgAAAAABAAAEAAAAAAEAAAAAAAAAAQAAAgAAAAABAAAKAAAAAAEAAAQAAAAAAQAAAAAAAAABAAACAAAAAAEAAAoAAAAAAQAABAAAAAABAAAAAAAAAAEAAAIAAAAAAQAACgAAAAABAAAEAAAAAAEAAAAAAAAAAQAAAgAAAAABAAAKAAAAAAEAAAQAAAAAAQAAAAAAAAABAAACAAAAAAMAAAQAAAAAAQAABgAAAAABAAACAAAAAAEAAAQAAAAAAQAABgAAAAABAAACAAAAAAQAAAQAAAAAAQAABgAAAAABAAACAAAAAAEAAAYAAAAAAQAAAgAAAAABAAAKAAAAAAEAAAQAAAAAAQAAAAAAAAABAAACAAAAAAEAAAQAAAAAAQAABgAAAAABAAACAAAAAAEAAAYAAAAAAQAAAgAAAAADAAAEAAAAAAEAAAgAAAAAAgAAAgAAAAABAAAGAAAAAAEAAAIAAAAAAQAABgAAAAABAAACAAAAAAEAAAoAAAAAAQAABAAAAAABAAAAAAAAAAEAAAIAAAAAAgAABAAAAAABAAAGAAAAAAEAAAIAAAAAAQAABAAAAAABAAAGAAAAAAEAAAIAAAAABAAABAAAAAABAAAGAAAAAAEAAAIAAAAAAQAABgAAAAABAAACAAAAAAEAAAoAAAAAAQAABAAAAAABAAAAAAAAAAEAAAIAAAAAHHN0c2MAAAAAAAAAAQAAAAEAAADKAAAAAQAAAzxzdHN6AAAAAAAAAAAAAADKAAAFuQAAACUAAAAbAAAAHwAAAB0AAAAiAAAAGgAAABMAAAAUAAAAKwAAABYAAAAUAAAAHwAAAB0AAAA2AAAAFAAAABwAAAA1AAAAFAAAACEAAAAUAAAAHAAAABwAAAAcAAAAHwAAACMAAAAWAAAAEwAAAB0AAAAcAAAAHAAAABYAAAAUAAAAHQAAABwAAAAcAAAAHAAAABwAAAAiAAAAFAAAABwAAAAeAAAAGwAAAB4AAAAbAAAAHQAAACUAAAAUAAAAHQAAAB8AAAAUAAAAEwAAABQAAAAgAAAAFAAAABwAAAAcAAAAHAAAABwAAAA0AAAAFgAAABQAAAAcAAAAHAAAABwAAAAfAAAAGwAAACQAAAAZAAAAFAAAABQAAAAdAAAAHAAAACIAAAAUAAAAIAAAABQAAAAcAAAAHAAAABwAAAAhAAAAFAAAAB0AAAAdAAAAIQAAABQAAAAdAAAAHgAAABkAAAAUAAAAFAAAACEAAAAUAAAAHwAAABMAAAAfAAAAFAAAABMAAAAUAAAAIAAAABQAAAApAAAAGQAAABMAAAAUAAAAIAAAABQAAAAgAAAAFAAAAB0AAAAdAAAAIgAAABQAAAAdAAAAIwAAABkAAAAUAAAAFAAAACAAAAAUAAAAIAAAABQAAAAUAAAAEwAAABcAAAAQAAAAFAAAABQAAAAXAAAAEAAAABQAAAAUAAAAFwAAABAAAAAUAAAAFAAAABYAAAAQAAAAFAAAABQAAAAWAAAAEAAAABQAAAAUAAAAHwAAAB0AAAAdAAAAIAAAABQAAAAcAAAAIQAAABMAAAAcAAAAHAAAAB0AAAAdAAAAIwAAABQAAAAWAAAAEgAAAB4AAAAUAAAAEgAAABQAAAAdAAAAHQAAABMAAAAfAAAAFAAAABwAAAAdAAAAHQAAACoAAAAXAAAAFAAAAB8AAAAUAAAAIAAAABQAAAAcAAAAGQAAABMAAAATAAAAHQAAAB0AAAAhAAAAEwAAABwAAAAhAAAAFAAAABwAAAAcAAAAHAAAABwAAAAhAAAAFAAAACAAAAAUAAAAHgAAAC4AAAAUAAAAKQAAABRzdGNvAAAAAAAAAAEAAAAwAAAAYnVkdGEAAABabWV0YQAAAAAAAAAhaGRscgAAAAAAAAAAbWRpcmFwcGwAAAAAAAAAAAAAAAAtaWxzdAAAACWpdG9vAAAAHWRhdGEAAAABAAAAAExhdmY1OC4yOS4xMDA=\" type=\"video/mp4\" />\n",
       "             </video>"
      ],
      "text/plain": [
       "<IPython.core.display.HTML object>"
      ]
     },
     "execution_count": 36,
     "metadata": {},
     "output_type": "execute_result"
    }
   ],
   "source": [
    "# Evaluation\n",
    "test(agent,env,epochs_test,prefix='cnn_test_explore')\n",
    "HTML(display_videos('cnn_test_explore10.mp4'))"
   ]
  },
  {
   "cell_type": "markdown",
   "metadata": {},
   "source": [
    "***\n",
    "***\n",
    "__BONUS question__ Use the expert DQN from the previous question to generate some winning games. Train a model that mimicks its behavior. Compare the performances."
   ]
  },
  {
   "cell_type": "markdown",
   "metadata": {},
   "source": []
  },
  {
   "cell_type": "markdown",
   "metadata": {},
   "source": [
    "***"
   ]
  }
 ],
 "metadata": {
  "kernelspec": {
   "display_name": "Python 3",
   "language": "python",
   "name": "python3"
  },
  "language_info": {
   "codemirror_mode": {
    "name": "ipython",
    "version": 3
   },
   "file_extension": ".py",
   "mimetype": "text/x-python",
   "name": "python",
   "nbconvert_exporter": "python",
   "pygments_lexer": "ipython3",
   "version": "3.7.3"
  }
 },
 "nbformat": 4,
 "nbformat_minor": 2
}
